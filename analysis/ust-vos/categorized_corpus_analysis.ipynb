{
 "cells": [
  {
   "cell_type": "code",
   "execution_count": 1,
   "metadata": {},
   "outputs": [],
   "source": [
    "from nltk import *"
   ]
  },
  {
   "cell_type": "markdown",
   "metadata": {},
   "source": [
    "###### import CategorizedSpanishReader"
   ]
  },
  {
   "cell_type": "code",
   "execution_count": 2,
   "metadata": {},
   "outputs": [],
   "source": [
    "from CategorizedSpanishReader import SpanishCategorizedPlaintextCorpusReader"
   ]
  },
  {
   "cell_type": "code",
   "execution_count": 3,
   "metadata": {},
   "outputs": [],
   "source": [
    "csr = SpanishCategorizedPlaintextCorpusReader('./CatSpCorpus', '.*\\.txt', cat_pattern='(Sppn|Spam)/.*')"
   ]
  },
  {
   "cell_type": "code",
   "execution_count": 4,
   "metadata": {},
   "outputs": [
    {
     "data": {
      "text/plain": [
       "['Spam', 'Sppn']"
      ]
     },
     "execution_count": 4,
     "metadata": {},
     "output_type": "execute_result"
    }
   ],
   "source": [
    "csr.categories()"
   ]
  },
  {
   "cell_type": "code",
   "execution_count": 4,
   "metadata": {},
   "outputs": [],
   "source": [
    "amwrds = csr.words(categories='Spam')"
   ]
  },
  {
   "cell_type": "code",
   "execution_count": 5,
   "metadata": {},
   "outputs": [],
   "source": [
    "pnwrds = csr.words(categories='Sppn')"
   ]
  },
  {
   "cell_type": "code",
   "execution_count": 6,
   "metadata": {},
   "outputs": [
    {
     "data": {
      "text/plain": [
       "1384410"
      ]
     },
     "execution_count": 6,
     "metadata": {},
     "output_type": "execute_result"
    }
   ],
   "source": [
    "len(amwrds)"
   ]
  },
  {
   "cell_type": "code",
   "execution_count": 7,
   "metadata": {},
   "outputs": [
    {
     "data": {
      "text/plain": [
       "1384456"
      ]
     },
     "execution_count": 7,
     "metadata": {},
     "output_type": "execute_result"
    }
   ],
   "source": [
    "len(pnwrds)"
   ]
  },
  {
   "cell_type": "code",
   "execution_count": 8,
   "metadata": {},
   "outputs": [],
   "source": [
    "amfd = FreqDist(amwrds)"
   ]
  },
  {
   "cell_type": "code",
   "execution_count": 9,
   "metadata": {},
   "outputs": [],
   "source": [
    "pnfd = FreqDist(pnwrds)"
   ]
  },
  {
   "cell_type": "code",
   "execution_count": 13,
   "metadata": {},
   "outputs": [
    {
     "data": {
      "text/plain": [
       "35"
      ]
     },
     "execution_count": 13,
     "metadata": {},
     "output_type": "execute_result"
    }
   ],
   "source": [
    "amfd['vosotros']"
   ]
  },
  {
   "cell_type": "code",
   "execution_count": 124,
   "metadata": {},
   "outputs": [
    {
     "data": {
      "text/plain": [
       "6"
      ]
     },
     "execution_count": 124,
     "metadata": {},
     "output_type": "execute_result"
    }
   ],
   "source": [
    "amfd['vosotras']"
   ]
  },
  {
   "cell_type": "code",
   "execution_count": 29,
   "metadata": {},
   "outputs": [
    {
     "data": {
      "text/plain": [
       "0"
      ]
     },
     "execution_count": 29,
     "metadata": {},
     "output_type": "execute_result"
    }
   ],
   "source": [
    "amfd['ud.']"
   ]
  },
  {
   "cell_type": "code",
   "execution_count": 10,
   "metadata": {},
   "outputs": [],
   "source": [
    "vosotr = [[],[]]"
   ]
  },
  {
   "cell_type": "code",
   "execution_count": 11,
   "metadata": {},
   "outputs": [],
   "source": [
    "ustedes = [[],[]]"
   ]
  },
  {
   "cell_type": "code",
   "execution_count": 12,
   "metadata": {},
   "outputs": [],
   "source": [
    "nosotr = [[],[]]"
   ]
  },
  {
   "cell_type": "code",
   "execution_count": 13,
   "metadata": {},
   "outputs": [],
   "source": [
    "n = 0\n",
    "for w in amfd.keys():\n",
    "    if w.lower().startswith('vosotr'):\n",
    "        n = n+amfd[w]\n",
    "vosotr[0].append(n)"
   ]
  },
  {
   "cell_type": "code",
   "execution_count": 14,
   "metadata": {},
   "outputs": [],
   "source": [
    "n = 0\n",
    "for w in pnfd.keys():\n",
    "    if w.lower().startswith('vosotr'):\n",
    "        n = n+pnfd[w]\n",
    "vosotr[0].append(n)"
   ]
  },
  {
   "cell_type": "code",
   "execution_count": 15,
   "metadata": {},
   "outputs": [
    {
     "data": {
      "text/plain": [
       "[[46, 84], []]"
      ]
     },
     "execution_count": 15,
     "metadata": {},
     "output_type": "execute_result"
    }
   ],
   "source": [
    "#FIRST AM, THEN PN\n",
    "vosotr"
   ]
  },
  {
   "cell_type": "code",
   "execution_count": 16,
   "metadata": {},
   "outputs": [],
   "source": [
    "n = 0\n",
    "for w in amfd.keys():\n",
    "    if w.lower().startswith('nosotr'):\n",
    "        n = n+amfd[w]\n",
    "nosotr[0].append(n)"
   ]
  },
  {
   "cell_type": "code",
   "execution_count": 17,
   "metadata": {},
   "outputs": [],
   "source": [
    "n = 0\n",
    "for w in pnfd.keys():\n",
    "    if w.lower().startswith('nosotr'):\n",
    "        n = n+pnfd[w]\n",
    "nosotr[0].append(n)"
   ]
  },
  {
   "cell_type": "code",
   "execution_count": 18,
   "metadata": {},
   "outputs": [
    {
     "data": {
      "text/plain": [
       "[[569, 553], []]"
      ]
     },
     "execution_count": 18,
     "metadata": {},
     "output_type": "execute_result"
    }
   ],
   "source": [
    "nosotr"
   ]
  },
  {
   "cell_type": "code",
   "execution_count": 19,
   "metadata": {},
   "outputs": [
    {
     "name": "stdout",
     "output_type": "stream",
     "text": [
      "283\n"
     ]
    }
   ],
   "source": [
    "n = 0\n",
    "for w in amfd.keys():\n",
    "    if (w.lower() == 'ustedes')|(w.lower() == 'vds.'):\n",
    "        n = n+amfd[w]\n",
    "ustedes[0].append(n)\n",
    "print(n)"
   ]
  },
  {
   "cell_type": "code",
   "execution_count": 20,
   "metadata": {},
   "outputs": [
    {
     "name": "stdout",
     "output_type": "stream",
     "text": [
      "317\n"
     ]
    }
   ],
   "source": [
    "n = 0\n",
    "for w in pnfd.keys():\n",
    "    if (w.lower() == 'ustedes')|(w.lower() == 'vds.'):\n",
    "        n = n+pnfd[w]\n",
    "ustedes[0].append(n)\n",
    "print(n)"
   ]
  },
  {
   "cell_type": "code",
   "execution_count": 21,
   "metadata": {},
   "outputs": [
    {
     "data": {
      "text/plain": [
       "[[283, 317], []]"
      ]
     },
     "execution_count": 21,
     "metadata": {},
     "output_type": "execute_result"
    }
   ],
   "source": [
    "ustedes"
   ]
  },
  {
   "cell_type": "code",
   "execution_count": 22,
   "metadata": {},
   "outputs": [],
   "source": [
    "vosotr[1].append(len(amwrds) - vosotr[0][0])"
   ]
  },
  {
   "cell_type": "code",
   "execution_count": 23,
   "metadata": {},
   "outputs": [],
   "source": [
    "vosotr[1].append(len(pnwrds) - vosotr[0][1])"
   ]
  },
  {
   "cell_type": "code",
   "execution_count": 24,
   "metadata": {},
   "outputs": [],
   "source": [
    "nosotr[1].append(len(amwrds) - nosotr[0][0])"
   ]
  },
  {
   "cell_type": "code",
   "execution_count": 25,
   "metadata": {},
   "outputs": [],
   "source": [
    "nosotr[1].append(len(pnwrds) - nosotr[0][1])"
   ]
  },
  {
   "cell_type": "code",
   "execution_count": 26,
   "metadata": {},
   "outputs": [],
   "source": [
    "ustedes[1].append(len(amwrds) - ustedes[0][0])"
   ]
  },
  {
   "cell_type": "code",
   "execution_count": 27,
   "metadata": {},
   "outputs": [],
   "source": [
    "ustedes[1].append(len(pnwrds) - ustedes[0][1])"
   ]
  },
  {
   "cell_type": "code",
   "execution_count": 28,
   "metadata": {},
   "outputs": [
    {
     "data": {
      "text/plain": [
       "[[46, 84], [1384364, 1384372]]"
      ]
     },
     "execution_count": 28,
     "metadata": {},
     "output_type": "execute_result"
    }
   ],
   "source": [
    "vosotr"
   ]
  },
  {
   "cell_type": "code",
   "execution_count": 29,
   "metadata": {},
   "outputs": [
    {
     "data": {
      "text/plain": [
       "[[569, 553], [1383841, 1383903]]"
      ]
     },
     "execution_count": 29,
     "metadata": {},
     "output_type": "execute_result"
    }
   ],
   "source": [
    "nosotr"
   ]
  },
  {
   "cell_type": "code",
   "execution_count": 30,
   "metadata": {},
   "outputs": [
    {
     "data": {
      "text/plain": [
       "[[283, 317], [1384127, 1384139]]"
      ]
     },
     "execution_count": 30,
     "metadata": {},
     "output_type": "execute_result"
    }
   ],
   "source": [
    "ustedes"
   ]
  },
  {
   "cell_type": "code",
   "execution_count": 31,
   "metadata": {},
   "outputs": [],
   "source": [
    "vos_uds = [vosotr[0], ustedes[0], \n",
    "           [vosotr[1][0]-ustedes[0][0], vosotr[1][1]-ustedes[0][1]]]"
   ]
  },
  {
   "cell_type": "code",
   "execution_count": 32,
   "metadata": {},
   "outputs": [
    {
     "data": {
      "text/plain": [
       "[[46, 84], [283, 317], [1384081, 1384055]]"
      ]
     },
     "execution_count": 32,
     "metadata": {},
     "output_type": "execute_result"
    }
   ],
   "source": [
    "vos_uds"
   ]
  },
  {
   "cell_type": "code",
   "execution_count": 33,
   "metadata": {},
   "outputs": [],
   "source": [
    "nos_vos_uds = [nosotr[0], \n",
    "               [vosotr[0], ustedes[0]], \n",
    "               [nosotr[1][0] - vosotr[0][0] - ustedes[0][0], \n",
    "                nosotr[1][1] - vosotr[0][1] - ustedes[0][1]]]"
   ]
  },
  {
   "cell_type": "code",
   "execution_count": 34,
   "metadata": {},
   "outputs": [],
   "source": [
    "nos_vosuds = [nosotr[0], \n",
    "               [vosotr[0][0] + ustedes[0][0], vosotr[0][1] + ustedes[0][1]], \n",
    "               [nosotr[1][0] - vosotr[0][0] - ustedes[0][0], \n",
    "                nosotr[1][1] - vosotr[0][1] - ustedes[0][1]]]"
   ]
  },
  {
   "cell_type": "code",
   "execution_count": 35,
   "metadata": {},
   "outputs": [
    {
     "data": {
      "text/plain": [
       "[[569, 553], [[46, 84], [283, 317]], [1383512, 1383502]]"
      ]
     },
     "execution_count": 35,
     "metadata": {},
     "output_type": "execute_result"
    }
   ],
   "source": [
    "nos_vos_uds"
   ]
  },
  {
   "cell_type": "code",
   "execution_count": 36,
   "metadata": {},
   "outputs": [
    {
     "data": {
      "text/plain": [
       "[[569, 553], [329, 401], [1383512, 1383502]]"
      ]
     },
     "execution_count": 36,
     "metadata": {},
     "output_type": "execute_result"
    }
   ],
   "source": [
    "nos_vosuds"
   ]
  },
  {
   "cell_type": "code",
   "execution_count": 37,
   "metadata": {},
   "outputs": [],
   "source": [
    "import numpy as np"
   ]
  },
  {
   "cell_type": "code",
   "execution_count": 38,
   "metadata": {},
   "outputs": [],
   "source": [
    "vos_uds_array = np.asarray(vos_uds)"
   ]
  },
  {
   "cell_type": "code",
   "execution_count": 39,
   "metadata": {},
   "outputs": [
    {
     "name": "stdout",
     "output_type": "stream",
     "text": [
      "[[     46      84]\n",
      " [    283     317]\n",
      " [1384081 1384055]]\n"
     ]
    }
   ],
   "source": [
    "print(vos_uds_array)"
   ]
  },
  {
   "cell_type": "code",
   "execution_count": 44,
   "metadata": {},
   "outputs": [
    {
     "ename": "ValueError",
     "evalue": "setting an array element with a sequence.",
     "output_type": "error",
     "traceback": [
      "\u001b[0;31m---------------------------------------------------------------------------\u001b[0m",
      "\u001b[0;31mValueError\u001b[0m                                Traceback (most recent call last)",
      "\u001b[0;32m<ipython-input-44-2fb29c66714f>\u001b[0m in \u001b[0;36m<module>\u001b[0;34m()\u001b[0m\n\u001b[0;32m----> 1\u001b[0;31m \u001b[0mnos_vos_uds_array\u001b[0m \u001b[0;34m=\u001b[0m \u001b[0mnp\u001b[0m\u001b[0;34m.\u001b[0m\u001b[0masarray\u001b[0m\u001b[0;34m(\u001b[0m\u001b[0mnos_vos_uds\u001b[0m\u001b[0;34m)\u001b[0m\u001b[0;34m\u001b[0m\u001b[0m\n\u001b[0m",
      "\u001b[0;32m/usr/local/lib/python3.7/site-packages/numpy/core/numeric.py\u001b[0m in \u001b[0;36masarray\u001b[0;34m(a, dtype, order)\u001b[0m\n\u001b[1;32m    499\u001b[0m \u001b[0;34m\u001b[0m\u001b[0m\n\u001b[1;32m    500\u001b[0m     \"\"\"\n\u001b[0;32m--> 501\u001b[0;31m     \u001b[0;32mreturn\u001b[0m \u001b[0marray\u001b[0m\u001b[0;34m(\u001b[0m\u001b[0ma\u001b[0m\u001b[0;34m,\u001b[0m \u001b[0mdtype\u001b[0m\u001b[0;34m,\u001b[0m \u001b[0mcopy\u001b[0m\u001b[0;34m=\u001b[0m\u001b[0;32mFalse\u001b[0m\u001b[0;34m,\u001b[0m \u001b[0morder\u001b[0m\u001b[0;34m=\u001b[0m\u001b[0morder\u001b[0m\u001b[0;34m)\u001b[0m\u001b[0;34m\u001b[0m\u001b[0m\n\u001b[0m\u001b[1;32m    502\u001b[0m \u001b[0;34m\u001b[0m\u001b[0m\n\u001b[1;32m    503\u001b[0m \u001b[0;34m\u001b[0m\u001b[0m\n",
      "\u001b[0;31mValueError\u001b[0m: setting an array element with a sequence."
     ]
    }
   ],
   "source": [
    "nos_vos_uds_array = np.asarray(nos_vos_uds)"
   ]
  },
  {
   "cell_type": "code",
   "execution_count": 40,
   "metadata": {},
   "outputs": [],
   "source": [
    "nos_vosuds_array = np.asarray(nos_vosuds)"
   ]
  },
  {
   "cell_type": "code",
   "execution_count": 41,
   "metadata": {},
   "outputs": [
    {
     "name": "stdout",
     "output_type": "stream",
     "text": [
      "[[    569     553]\n",
      " [    329     401]\n",
      " [1383512 1383502]]\n"
     ]
    }
   ],
   "source": [
    "print(nos_vosuds_array)"
   ]
  },
  {
   "cell_type": "markdown",
   "metadata": {},
   "source": [
    "### What stats?"
   ]
  },
  {
   "cell_type": "code",
   "execution_count": 3,
   "metadata": {},
   "outputs": [],
   "source": [
    "import numpy as np\n",
    "import scipy as sp\n",
    "import matplotlib as mpl"
   ]
  },
  {
   "cell_type": "code",
   "execution_count": 4,
   "metadata": {},
   "outputs": [],
   "source": [
    "import statsmodels"
   ]
  },
  {
   "cell_type": "code",
   "execution_count": 5,
   "metadata": {},
   "outputs": [],
   "source": [
    "import statsmodels.api as sm"
   ]
  },
  {
   "cell_type": "markdown",
   "metadata": {},
   "source": [
    "One package to analyze caegorical data comes from the statsmodels package. \n",
    "\n",
    "[contingency tables](http://www.statsmodels.org/stable/contingency_tables.html)\n",
    "\n",
    "The most used method is to construct a `Table` object from a simple array of data, and then use the methods defined for `Table` to do the statistics. E.g. `test_nominal_association()` will test using the chi-square statistic.\n",
    "\n",
    "We can also get the odds ratio, which is a measure of association (the chi2 statistic is a measure of independence). For the odds ratio, a value of 1 signals no association (equal odds), but departures in either direction indicate association. The log odds removes the asymmetry, and gives 0 as a measure of no association.\n",
    "\n",
    "The package has many other functions, including calculation of residuals. "
   ]
  },
  {
   "cell_type": "markdown",
   "metadata": {},
   "source": [
    "The other package is `scipy.stats`, which contains functions for tables: `chi2_contingency()` and `fisher_exact`.\n",
    "\n",
    "The functions take an array-like object, and some other arguments, and return the statistics. By default, the chi2_contingency() function applies Yates correction, and uses Pearson's chi-square statistic. These parameters can be changed (corrrection=False to run without Yates, lambda_='pearson'/'log-likelihood'/'cressie-read'). \n",
    "\n",
    "fisher_exact reports the odds ratio, but not the log odds.\n",
    "\n",
    "+ To find the **p-value**, use `sp.stats.chi2_contingency(data, correction=False, lambda_='log-likelihood')`\n",
    "+ To find the **log odds**, first build a Table with `mytable = sm.stats.Table(vosotr)`, then do `mytable.local_log_oddsratios` (or `.cumulative_log_oddsratios`)"
   ]
  },
  {
   "cell_type": "code",
   "execution_count": 7,
   "metadata": {},
   "outputs": [],
   "source": [
    "table_vos = sm.stats.Table(vosotr)"
   ]
  },
  {
   "cell_type": "code",
   "execution_count": 8,
   "metadata": {},
   "outputs": [
    {
     "name": "stdout",
     "output_type": "stream",
     "text": [
      "A 2x2 contingency table with counts:\n",
      "[[4.600000e+01 8.400000e+01]\n",
      " [1.384364e+06 1.384372e+06]]\n"
     ]
    }
   ],
   "source": [
    "print(table_vos)"
   ]
  },
  {
   "cell_type": "code",
   "execution_count": 47,
   "metadata": {},
   "outputs": [],
   "source": [
    "rslt = table_vos.test_nominal_association()"
   ]
  },
  {
   "cell_type": "code",
   "execution_count": 48,
   "metadata": {},
   "outputs": [
    {
     "name": "stdout",
     "output_type": "stream",
     "text": [
      "df          1\n",
      "pvalue      0.0008600475663491647\n",
      "statistic   11.1069512142241\n"
     ]
    }
   ],
   "source": [
    "print(rslt)"
   ]
  },
  {
   "cell_type": "code",
   "execution_count": 49,
   "metadata": {},
   "outputs": [
    {
     "data": {
      "text/plain": [
       "array([[0.54762221,        nan],\n",
       "       [       nan,        nan]])"
      ]
     },
     "execution_count": 49,
     "metadata": {},
     "output_type": "execute_result"
    }
   ],
   "source": [
    "table_vos.local_oddsratios"
   ]
  },
  {
   "cell_type": "code",
   "execution_count": 50,
   "metadata": {},
   "outputs": [
    {
     "data": {
      "text/plain": [
       "array([[-0.60216962,         nan],\n",
       "       [        nan,         nan]])"
      ]
     },
     "execution_count": 50,
     "metadata": {},
     "output_type": "execute_result"
    }
   ],
   "source": [
    "table_vos.local_log_oddsratios"
   ]
  },
  {
   "cell_type": "code",
   "execution_count": 9,
   "metadata": {},
   "outputs": [
    {
     "ename": "NameError",
     "evalue": "name 'nosotr' is not defined",
     "output_type": "error",
     "traceback": [
      "\u001b[0;31m---------------------------------------------------------------------------\u001b[0m",
      "\u001b[0;31mNameError\u001b[0m                                 Traceback (most recent call last)",
      "\u001b[0;32m<ipython-input-9-f252c5532743>\u001b[0m in \u001b[0;36m<module>\u001b[0;34m()\u001b[0m\n\u001b[0;32m----> 1\u001b[0;31m \u001b[0mtable_nos\u001b[0m \u001b[0;34m=\u001b[0m \u001b[0msm\u001b[0m\u001b[0;34m.\u001b[0m\u001b[0mstats\u001b[0m\u001b[0;34m.\u001b[0m\u001b[0mTable\u001b[0m\u001b[0;34m(\u001b[0m\u001b[0mnosotr\u001b[0m\u001b[0;34m)\u001b[0m\u001b[0;34m\u001b[0m\u001b[0m\n\u001b[0m",
      "\u001b[0;31mNameError\u001b[0m: name 'nosotr' is not defined"
     ]
    }
   ],
   "source": [
    "table_nos = sm.stats.Table(nosotr)"
   ]
  },
  {
   "cell_type": "code",
   "execution_count": 52,
   "metadata": {},
   "outputs": [
    {
     "name": "stdout",
     "output_type": "stream",
     "text": [
      "A 2x2 contingency table with counts:\n",
      "[[5.690000e+02 5.530000e+02]\n",
      " [1.383841e+06 1.383903e+06]]\n"
     ]
    }
   ],
   "source": [
    "print(table_nos)"
   ]
  },
  {
   "cell_type": "code",
   "execution_count": 53,
   "metadata": {},
   "outputs": [
    {
     "data": {
      "text/plain": [
       "array([[1.02897919,        nan],\n",
       "       [       nan,        nan]])"
      ]
     },
     "execution_count": 53,
     "metadata": {},
     "output_type": "execute_result"
    }
   ],
   "source": [
    "table_nos.local_oddsratios"
   ]
  },
  {
   "cell_type": "code",
   "execution_count": 54,
   "metadata": {},
   "outputs": [],
   "source": [
    "rslt_nos = table_nos.test_nominal_association()"
   ]
  },
  {
   "cell_type": "code",
   "execution_count": 55,
   "metadata": {},
   "outputs": [
    {
     "name": "stdout",
     "output_type": "stream",
     "text": [
      "df          1\n",
      "pvalue      0.6324234934523132\n",
      "statistic   0.22878863793111684\n"
     ]
    }
   ],
   "source": [
    "print(rslt_nos)"
   ]
  },
  {
   "cell_type": "code",
   "execution_count": 56,
   "metadata": {},
   "outputs": [],
   "source": [
    "nos_fe = sp.stats.fisher_exact(nosotr)"
   ]
  },
  {
   "cell_type": "code",
   "execution_count": 57,
   "metadata": {},
   "outputs": [
    {
     "name": "stdout",
     "output_type": "stream",
     "text": [
      "(1.0289791913437965, 0.6329850527383964)\n"
     ]
    }
   ],
   "source": [
    "print(nos_fe)"
   ]
  },
  {
   "cell_type": "code",
   "execution_count": 58,
   "metadata": {},
   "outputs": [],
   "source": [
    "vos_fe = sp.stats.fisher_exact(vosotr)"
   ]
  },
  {
   "cell_type": "code",
   "execution_count": 59,
   "metadata": {},
   "outputs": [
    {
     "data": {
      "text/plain": [
       "(0.5476222122147616, 0.0010922693020390774)"
      ]
     },
     "execution_count": 59,
     "metadata": {},
     "output_type": "execute_result"
    }
   ],
   "source": [
    "vos_fe"
   ]
  },
  {
   "cell_type": "code",
   "execution_count": 60,
   "metadata": {},
   "outputs": [],
   "source": [
    "vos_ll = sp.stats.chi2_contingency(vosotr, correction=False, lambda_='log-likelihood')"
   ]
  },
  {
   "cell_type": "code",
   "execution_count": 61,
   "metadata": {},
   "outputs": [
    {
     "data": {
      "text/plain": [
       "(11.270799413323857,\n",
       " 0.000787358150701271,\n",
       " 1,\n",
       " array([[6.49989201e+01, 6.50010799e+01],\n",
       "        [1.38434500e+06, 1.38439100e+06]]))"
      ]
     },
     "execution_count": 61,
     "metadata": {},
     "output_type": "execute_result"
    }
   ],
   "source": [
    "vos_ll"
   ]
  },
  {
   "cell_type": "code",
   "execution_count": 62,
   "metadata": {},
   "outputs": [
    {
     "name": "stdout",
     "output_type": "stream",
     "text": [
      "0.0013612392086218377\n"
     ]
    }
   ],
   "source": [
    "vos_uds_llp = sp.stats.chi2_contingency(vos_uds, correction=False, lambda_='log-likelihood')[1]\n",
    "print(vos_uds_llp)"
   ]
  },
  {
   "cell_type": "code",
   "execution_count": 63,
   "metadata": {},
   "outputs": [
    {
     "name": "stdout",
     "output_type": "stream",
     "text": [
      "0.001478215758724004\n"
     ]
    }
   ],
   "source": [
    "vos_uds_chi2 = sp.stats.chi2_contingency(vos_uds, correction=False, lambda_='pearson')[1]\n",
    "print(vos_uds_chi2)"
   ]
  },
  {
   "cell_type": "code",
   "execution_count": 64,
   "metadata": {},
   "outputs": [
    {
     "name": "stdout",
     "output_type": "stream",
     "text": [
      "0.0014517064344841352\n"
     ]
    }
   ],
   "source": [
    "vos_uds_cr = sp.stats.chi2_contingency(vos_uds, correction=False, lambda_='cressie-read')[1]\n",
    "print(vos_uds_cr)"
   ]
  },
  {
   "cell_type": "code",
   "execution_count": 65,
   "metadata": {},
   "outputs": [],
   "source": [
    "vos_uds_tbl = sm.stats.Table(vos_uds)"
   ]
  },
  {
   "cell_type": "code",
   "execution_count": 66,
   "metadata": {},
   "outputs": [
    {
     "name": "stdout",
     "output_type": "stream",
     "text": [
      "A 3x2 contingency table with counts:\n",
      "[[4.600000e+01 8.400000e+01]\n",
      " [2.830000e+02 3.170000e+02]\n",
      " [1.384081e+06 1.384055e+06]]\n"
     ]
    }
   ],
   "source": [
    "print(vos_uds_tbl)"
   ]
  },
  {
   "cell_type": "code",
   "execution_count": 67,
   "metadata": {},
   "outputs": [
    {
     "data": {
      "text/plain": [
       "array([[-0.48872053,         nan],\n",
       "       [-0.11347366,         nan],\n",
       "       [        nan,         nan]])"
      ]
     },
     "execution_count": 67,
     "metadata": {},
     "output_type": "execute_result"
    }
   ],
   "source": [
    "vos_uds_tbl.local_log_oddsratios\n",
    "\n",
    "#top result is what you get from comparing 1st and 2nd rows, bottom result from comparing\n",
    "#2nd to 3rd."
   ]
  },
  {
   "cell_type": "code",
   "execution_count": 68,
   "metadata": {},
   "outputs": [
    {
     "data": {
      "text/plain": [
       "array([[-0.60216962,         nan],\n",
       "       [-0.19792246,         nan],\n",
       "       [        nan,         nan]])"
      ]
     },
     "execution_count": 68,
     "metadata": {},
     "output_type": "execute_result"
    }
   ],
   "source": [
    "vos_uds_tbl.cumulative_log_oddsratios\n",
    "\n",
    "#The top result is what you get when you collapse rows 2 and 3, the mid result is when\n",
    "#collapsing rows 1 and 2. There are more 2nd person pronouns in the Peninsular sub-corpus, \n",
    "#but they are more likely to be 'vosotros/as' than in the American sub-corpus."
   ]
  },
  {
   "cell_type": "code",
   "execution_count": 69,
   "metadata": {},
   "outputs": [],
   "source": [
    "#Top 2 rows only: preference for variant of 2nd. pl. pron.\n",
    "vos_uds_par1 = [vos_uds[0], vos_uds[1]]"
   ]
  },
  {
   "cell_type": "code",
   "execution_count": 70,
   "metadata": {},
   "outputs": [],
   "source": [
    "#bottom 2 rows only (reference for local log odds calculations)\n",
    "vos_uds_par2 = [vos_uds[1], vos_uds[2]]"
   ]
  },
  {
   "cell_type": "code",
   "execution_count": 71,
   "metadata": {},
   "outputs": [],
   "source": [
    "#top and bottom rows collapsed: 'ustedes' vs. all words\n",
    "vos_uds_par3 = [vos_uds[1], [vos_uds[0][0]+vos_uds[2][0],vos_uds[0][1]+vos_uds[2][1]]]"
   ]
  },
  {
   "cell_type": "code",
   "execution_count": 72,
   "metadata": {},
   "outputs": [],
   "source": [
    "#Top 2 rows collapsed: 2 pl pronouns vs all other words\n",
    "vos_uds_par4 = [[vos_uds[0][0]+vos_uds[1][0],vos_uds[0][1]+vos_uds[1][1]], vos_uds[2]]"
   ]
  },
  {
   "cell_type": "code",
   "execution_count": 73,
   "metadata": {},
   "outputs": [],
   "source": [
    "vu_tbl1 = sm.stats.Table(vos_uds_par1)"
   ]
  },
  {
   "cell_type": "code",
   "execution_count": 74,
   "metadata": {},
   "outputs": [],
   "source": [
    "vu_tbl2 = sm.stats.Table(vos_uds_par2)"
   ]
  },
  {
   "cell_type": "code",
   "execution_count": 75,
   "metadata": {},
   "outputs": [],
   "source": [
    "vu_tbl3 = sm.stats.Table(vos_uds_par3)"
   ]
  },
  {
   "cell_type": "code",
   "execution_count": 76,
   "metadata": {},
   "outputs": [],
   "source": [
    "vu_tbl4 = sm.stats.Table(vos_uds_par4)"
   ]
  },
  {
   "cell_type": "code",
   "execution_count": 77,
   "metadata": {},
   "outputs": [
    {
     "name": "stdout",
     "output_type": "stream",
     "text": [
      "A 2x2 contingency table with counts:\n",
      "[[ 46.  84.]\n",
      " [283. 317.]]\n"
     ]
    }
   ],
   "source": [
    "print(vu_tbl1)"
   ]
  },
  {
   "cell_type": "code",
   "execution_count": 78,
   "metadata": {},
   "outputs": [
    {
     "name": "stdout",
     "output_type": "stream",
     "text": [
      "A 2x2 contingency table with counts:\n",
      "[[2.830000e+02 3.170000e+02]\n",
      " [1.384081e+06 1.384055e+06]]\n"
     ]
    }
   ],
   "source": [
    "print(vu_tbl2)"
   ]
  },
  {
   "cell_type": "code",
   "execution_count": 79,
   "metadata": {},
   "outputs": [
    {
     "name": "stdout",
     "output_type": "stream",
     "text": [
      "A 2x2 contingency table with counts:\n",
      "[[2.830000e+02 3.170000e+02]\n",
      " [1.384127e+06 1.384139e+06]]\n"
     ]
    }
   ],
   "source": [
    "print(vu_tbl3)"
   ]
  },
  {
   "cell_type": "code",
   "execution_count": 80,
   "metadata": {},
   "outputs": [
    {
     "name": "stdout",
     "output_type": "stream",
     "text": [
      "A 2x2 contingency table with counts:\n",
      "[[3.290000e+02 4.010000e+02]\n",
      " [1.384081e+06 1.384055e+06]]\n"
     ]
    }
   ],
   "source": [
    "print(vu_tbl4)"
   ]
  },
  {
   "cell_type": "code",
   "execution_count": 81,
   "metadata": {},
   "outputs": [
    {
     "data": {
      "text/plain": [
       "array([[-0.48872053,         nan],\n",
       "       [        nan,         nan]])"
      ]
     },
     "execution_count": 81,
     "metadata": {},
     "output_type": "execute_result"
    }
   ],
   "source": [
    "vu_tbl1.local_log_oddsratios"
   ]
  },
  {
   "cell_type": "code",
   "execution_count": 82,
   "metadata": {},
   "outputs": [
    {
     "data": {
      "text/plain": [
       "array([[-0.11347366,         nan],\n",
       "       [        nan,         nan]])"
      ]
     },
     "execution_count": 82,
     "metadata": {},
     "output_type": "execute_result"
    }
   ],
   "source": [
    "vu_tbl2.local_log_oddsratios"
   ]
  },
  {
   "cell_type": "code",
   "execution_count": 83,
   "metadata": {},
   "outputs": [
    {
     "data": {
      "text/plain": [
       "array([[-0.11344621,         nan],\n",
       "       [        nan,         nan]])"
      ]
     },
     "execution_count": 83,
     "metadata": {},
     "output_type": "execute_result"
    }
   ],
   "source": [
    "vu_tbl3.local_log_oddsratios"
   ]
  },
  {
   "cell_type": "code",
   "execution_count": 84,
   "metadata": {},
   "outputs": [
    {
     "data": {
      "text/plain": [
       "array([[-0.19792246,         nan],\n",
       "       [        nan,         nan]])"
      ]
     },
     "execution_count": 84,
     "metadata": {},
     "output_type": "execute_result"
    }
   ],
   "source": [
    "#odds of finding a 2nd pl pronoun in a corpus: More likely in the pn than in the am\n",
    "vu_tbl4.local_log_oddsratios"
   ]
  },
  {
   "cell_type": "code",
   "execution_count": 85,
   "metadata": {},
   "outputs": [
    {
     "name": "stdout",
     "output_type": "stream",
     "text": [
      "0.1649861641776736\n"
     ]
    }
   ],
   "source": [
    "#Just for \"ustedes\", adding up \"vosotrxs\" to the remnant\n",
    "vos_uds_2_llp = sp.stats.chi2_contingency(vos_uds_par2, correction=False, lambda_='log-likelihood')[1]\n",
    "print(vos_uds_2_llp)"
   ]
  },
  {
   "cell_type": "code",
   "execution_count": 86,
   "metadata": {},
   "outputs": [
    {
     "name": "stdout",
     "output_type": "stream",
     "text": [
      "0.007655218933576438\n"
     ]
    }
   ],
   "source": [
    "#This is for \"vosotxs\" + \"ustedes\" vs the remnant\n",
    "vos_uds_4_llp = sp.stats.chi2_contingency(vos_uds_par4, correction=False, lambda_='log-likelihood')[1]\n",
    "print(vos_uds_4_llp)"
   ]
  },
  {
   "cell_type": "code",
   "execution_count": 87,
   "metadata": {},
   "outputs": [
    {
     "name": "stdout",
     "output_type": "stream",
     "text": [
      "df          1\n",
      "pvalue      0.0077047411044990355\n",
      "statistic   7.100849860853304\n"
     ]
    }
   ],
   "source": [
    "print(vu_tbl4.test_nominal_association())"
   ]
  },
  {
   "cell_type": "code",
   "execution_count": 88,
   "metadata": {},
   "outputs": [
    {
     "name": "stdout",
     "output_type": "stream",
     "text": [
      "df          1\n",
      "pvalue      0.165201726217025\n",
      "statistic   1.9259544735459888\n"
     ]
    }
   ],
   "source": [
    "#There is no association between the freq. of pronouns and the  \n",
    "print(vu_tbl3.test_nominal_association())"
   ]
  },
  {
   "cell_type": "code",
   "execution_count": 89,
   "metadata": {},
   "outputs": [
    {
     "name": "stdout",
     "output_type": "stream",
     "text": [
      "df          2\n",
      "pvalue      0.0014782157587239775\n",
      "statistic   13.033838973836103\n"
     ]
    }
   ],
   "source": [
    "print(vos_uds_tbl.test_nominal_association())"
   ]
  },
  {
   "cell_type": "code",
   "execution_count": 90,
   "metadata": {},
   "outputs": [],
   "source": [
    "nos_vosuds_tbl = sm.stats.Table(nos_vosuds)"
   ]
  },
  {
   "cell_type": "code",
   "execution_count": 91,
   "metadata": {},
   "outputs": [
    {
     "name": "stdout",
     "output_type": "stream",
     "text": [
      "A 3x2 contingency table with counts:\n",
      "[[5.690000e+02 5.530000e+02]\n",
      " [3.290000e+02 4.010000e+02]\n",
      " [1.383512e+06 1.383502e+06]]\n"
     ]
    }
   ],
   "source": [
    "print(nos_vosuds_tbl)"
   ]
  },
  {
   "cell_type": "code",
   "execution_count": 92,
   "metadata": {},
   "outputs": [
    {
     "name": "stdout",
     "output_type": "stream",
     "text": [
      "df          2\n",
      "pvalue      0.025619464276725123\n",
      "statistic   7.328805786172765\n"
     ]
    }
   ],
   "source": [
    "print(nos_vosuds_tbl.test_nominal_association())"
   ]
  },
  {
   "cell_type": "code",
   "execution_count": 93,
   "metadata": {},
   "outputs": [
    {
     "name": "stdout",
     "output_type": "stream",
     "text": [
      "[[ 0.22642611         nan]\n",
      " [-0.1979109          nan]\n",
      " [        nan         nan]]\n"
     ]
    }
   ],
   "source": [
    "print(nos_vosuds_tbl.local_log_oddsratios)"
   ]
  },
  {
   "cell_type": "code",
   "execution_count": 94,
   "metadata": {},
   "outputs": [
    {
     "name": "stdout",
     "output_type": "stream",
     "text": [
      "[[ 0.02856723         nan]\n",
      " [-0.06050083         nan]\n",
      " [        nan         nan]]\n"
     ]
    }
   ],
   "source": [
    "#The top result is what you get when you collapse rows 2 and 3, the mid result is when\n",
    "#collapsing rows 1 and 2. There are more 2nd person pronouns in the Peninsular sub-corpus, \n",
    "#but more .\n",
    "print(nos_vosuds_tbl.cumulative_log_oddsratios)"
   ]
  },
  {
   "cell_type": "code",
   "execution_count": 95,
   "metadata": {},
   "outputs": [
    {
     "data": {
      "text/plain": [
       "[[569, 553], [329, 401], [1383512, 1383502]]"
      ]
     },
     "execution_count": 95,
     "metadata": {},
     "output_type": "execute_result"
    }
   ],
   "source": [
    "nos_vosuds"
   ]
  },
  {
   "cell_type": "code",
   "execution_count": 96,
   "metadata": {},
   "outputs": [],
   "source": [
    "nos_test = [[nos_vosuds[0][0]+nos_vosuds[1][0],\n",
    "             nos_vosuds[0][1]+nos_vosuds[1][1]],\n",
    "           nos_vosuds[2]]"
   ]
  },
  {
   "cell_type": "code",
   "execution_count": 97,
   "metadata": {},
   "outputs": [
    {
     "data": {
      "text/plain": [
       "[[898, 954], [1383512, 1383502]]"
      ]
     },
     "execution_count": 97,
     "metadata": {},
     "output_type": "execute_result"
    }
   ],
   "source": [
    "nos_test"
   ]
  },
  {
   "cell_type": "code",
   "execution_count": 98,
   "metadata": {},
   "outputs": [],
   "source": [
    "pl2x2_test = [nos_vosuds[0], nos_vosuds[1]]"
   ]
  },
  {
   "cell_type": "code",
   "execution_count": 99,
   "metadata": {},
   "outputs": [],
   "source": [
    "nos_test_tbl = sm.stats.Table(nos_test)"
   ]
  },
  {
   "cell_type": "code",
   "execution_count": 100,
   "metadata": {},
   "outputs": [],
   "source": [
    "pl2x2_test_tbl = sm.stats.Table(pl2x2_test)"
   ]
  },
  {
   "cell_type": "code",
   "execution_count": 101,
   "metadata": {},
   "outputs": [
    {
     "name": "stdout",
     "output_type": "stream",
     "text": [
      "df          1\n",
      "pvalue      0.1932616824075949\n",
      "statistic   1.6925764643707364\n"
     ]
    }
   ],
   "source": [
    "print(nos_test_tbl.test_nominal_association())"
   ]
  },
  {
   "cell_type": "code",
   "execution_count": 102,
   "metadata": {},
   "outputs": [
    {
     "name": "stdout",
     "output_type": "stream",
     "text": [
      "df          1\n",
      "pvalue      0.01754132182928525\n",
      "statistic   5.6413873044310225\n"
     ]
    }
   ],
   "source": [
    "print(pl2x2_test_tbl.test_nominal_association())"
   ]
  },
  {
   "cell_type": "code",
   "execution_count": 103,
   "metadata": {},
   "outputs": [
    {
     "name": "stdout",
     "output_type": "stream",
     "text": [
      "[[0.22642611        nan]\n",
      " [       nan        nan]]\n"
     ]
    }
   ],
   "source": [
    "print(pl2x2_test_tbl.local_log_oddsratios)"
   ]
  },
  {
   "cell_type": "code",
   "execution_count": 104,
   "metadata": {},
   "outputs": [
    {
     "name": "stdout",
     "output_type": "stream",
     "text": [
      "0.0174799016650191\n"
     ]
    }
   ],
   "source": [
    "pl2x2_test_llp = sp.stats.chi2_contingency(pl2x2_test, correction=False, lambda_='log-likelihood')[1]\n",
    "print(pl2x2_test_llp)"
   ]
  },
  {
   "cell_type": "code",
   "execution_count": 105,
   "metadata": {},
   "outputs": [
    {
     "name": "stdout",
     "output_type": "stream",
     "text": [
      "0.02547173013580744\n"
     ]
    }
   ],
   "source": [
    "nos_vosuds_llp = sp.stats.chi2_contingency(nos_vosuds, correction=False, lambda_='log-likelihood')[1]\n",
    "print(nos_vosuds_llp)"
   ]
  },
  {
   "cell_type": "code",
   "execution_count": 106,
   "metadata": {},
   "outputs": [
    {
     "name": "stdout",
     "output_type": "stream",
     "text": [
      "0.025586594754897232\n"
     ]
    }
   ],
   "source": [
    "nos_vosuds_llp = sp.stats.chi2_contingency(nos_vosuds, correction=False, lambda_='cressie-read')[1]\n",
    "print(nos_vosuds_llp)"
   ]
  },
  {
   "cell_type": "code",
   "execution_count": 203,
   "metadata": {},
   "outputs": [],
   "source": [
    "pl2x2_test_10 = [[pl2x2_test[0][0]/10, pl2x2_test[0][1]/10],[pl2x2_test[1][0]/10, pl2x2_test[1][1]/10]]"
   ]
  },
  {
   "cell_type": "code",
   "execution_count": 205,
   "metadata": {},
   "outputs": [],
   "source": [
    "test_10_tbl = sm.stats.Table(pl2x2_test_10)"
   ]
  },
  {
   "cell_type": "code",
   "execution_count": 208,
   "metadata": {},
   "outputs": [
    {
     "name": "stdout",
     "output_type": "stream",
     "text": [
      "df          1\n",
      "pvalue      0.45259747506833126\n",
      "statistic   0.5641387304431034\n"
     ]
    }
   ],
   "source": [
    "print(test_10_tbl.test_nominal_association())"
   ]
  },
  {
   "cell_type": "code",
   "execution_count": 212,
   "metadata": {},
   "outputs": [
    {
     "name": "stdout",
     "output_type": "stream",
     "text": [
      "[[0.22642611        nan]\n",
      " [       nan        nan]]\n"
     ]
    }
   ],
   "source": [
    "print(pl2x2_test_tbl.local_log_oddsratios)"
   ]
  },
  {
   "cell_type": "code",
   "execution_count": 216,
   "metadata": {},
   "outputs": [
    {
     "name": "stdout",
     "output_type": "stream",
     "text": [
      "A 2x2 contingency table with counts:\n",
      "[[569. 553.]\n",
      " [329. 401.]]\n"
     ]
    }
   ],
   "source": [
    "print(pl2x2_test_tbl)"
   ]
  },
  {
   "cell_type": "code",
   "execution_count": 213,
   "metadata": {},
   "outputs": [
    {
     "name": "stdout",
     "output_type": "stream",
     "text": [
      "[[0.22642611        nan]\n",
      " [       nan        nan]]\n"
     ]
    }
   ],
   "source": [
    "print(test_10_tbl.local_log_oddsratios)"
   ]
  },
  {
   "cell_type": "code",
   "execution_count": 215,
   "metadata": {},
   "outputs": [
    {
     "name": "stdout",
     "output_type": "stream",
     "text": [
      "A 2x2 contingency table with counts:\n",
      "[[56.9 55.3]\n",
      " [32.9 40.1]]\n"
     ]
    }
   ],
   "source": [
    "print(test_10_tbl)"
   ]
  },
  {
   "cell_type": "code",
   "execution_count": 210,
   "metadata": {
    "scrolled": true
   },
   "outputs": [
    {
     "name": "stdout",
     "output_type": "stream",
     "text": [
      "0.4523511989802075\n"
     ]
    }
   ],
   "source": [
    "pl2x2_test_10_llp = sp.stats.chi2_contingency(pl2x2_test_10, correction=False, lambda_='log-likelihood')[1]\n",
    "print(pl2x2_test_10_llp)"
   ]
  },
  {
   "cell_type": "markdown",
   "metadata": {},
   "source": [
    "**Summary of the stats**\n",
    "\n",
    "Pronoun |     LAm |     Pen\n",
    "--------|---------|--------\n",
    "VOSOTRxS|       46|      84 \n",
    "USTEDES |      283|     317 \n",
    "NOSOTRxS|      569|     553 \n",
    "OTHER   |  1383512| 1383502\n",
    "\n",
    "Data       |Ll stat|ll p-value|Pearson stat|Pearson p-value|df\n",
    "-----------|------------|---------------|-----------|-------|-------\n",
    "Full table |13.426683281427314|0.0037991237300098474|13.261794899155557|0.004103342632489391|3\n",
    "vos./uds|6.086311153589268|0.013623322634384646|5.991271626094145|0.014376834659973739|1\n",
    "pl1/pl2|5.647537534949173|0.0174799016650191|5.64138730443102|0.017541321829285337|1\n",
    "pl/other|1.6928345928886301|0.19322772855858716|1.6925764643707297|0.19326168240759212|1\n",
    "\n",
    "\n",
    "**DISPERSION**"
   ]
  },
  {
   "cell_type": "markdown",
   "metadata": {},
   "source": [
    "\n",
    "FILE|VOSOTRxS|USTEDES|WORD_COUNT\n",
    "---|---|---|---\n",
    "Spam/a-xix-d-gorostiza-pg12368.txt|0|15|20784\n",
    "Spam/a-xix-f-cane-pg41575.txt|3|22|94650\n",
    "Spam/a-xix-f-delgado-pg16082.txt|1|48|111735\n",
    "Spam/a-xix-f-lastarria-pg45945.txt|10|20|109976\n",
    "Spam/a-xix-f-marti-pg18166.txt'|0|6|42832\n",
    "Spam/a-xix-f-villaverde-pg28281.txt'|1|43|218691\n",
    "Spam/a-xix-n-lopez-pg31724.txt'|0|23|60155\n",
    "Spam/a-xix-n-nieves-pg52469.txt'|0|0|4389\n",
    "Spam/a-xx-f-bunge-pg26771.txt'|1|6|63415\n",
    "Spam/a-xx-f-larreta-pg29920.txt'|3|0|103832\n",
    "Spam/a-xx-f-leumann-pg25054.txt'|0|17|67637\n",
    "Spam/a-xx-f-quiroga-pg13507.txt'|0|10|61701\n",
    "Spam/a-xx-f-vedia-pg26231.txt'|0|48|64241\n",
    "Spam/a-xx-f-viana-pg53798.txt'|0|14|37620\n",
    "Spam/a-xx-n-dario-52050-0.txt'|0|4|44957\n",
    "Spam/a-xx-n-gutierrez-53927-0.txt'|1|6|63064\n",
    "Spam/a-xx-n-palma-pg34565.txt'|0|1|62185\n",
    "Spam/a-xx-n-quiroga-54064-0.txt'|4|0|80559\n",
    "Spam/a-xx-n-rodo-pg22899.txt'|13|0|29185\n",
    "Spam/a-xx-p-dario-51458-0.txt'|5|0|11104\n",
    "Spam/a-xx-p-dario-51711-0.txt'|1|0|16737\n",
    "Spam/a-xx-p-dario-pg50341.txt'|3|0|14632\n",
    "Sppn/p-xix-f-blascoibanez-pg14944.txt'|0|10|64142\n",
    "Sppn/p-xix-f-blascoibanez-pg16413.txt'|4|21|106497\n",
    "Sppn/p-xix-f-fernandezygonzalez-pg27295.txt'|1|3|34307\n",
    "Sppn/p-xix-f-pereda-pg23957.txt'|10|72|121473\n",
    "Sppn/p-xix-f-perezgaldos-pg21906.txt'|10|31|93007\n",
    "Sppn/p-xix-f-picon-pg26929.txt'|3|1|37704\n",
    "Sppn/p-xix-n-sauri-pg44120.txt'|0|1|14779\n",
    "Sppn/p-xix-n-valera-35882-0.txt'|0|3|94901\n",
    "Sppn/p-xx-d-munozseca-49013-0.txt'|0|0|23670\n",
    "Sppn/p-xx-f-baroja-49280-0.txt'|2|57|72479\n",
    "Sppn/p-xx-f-espina-pg47388.txt'|7|6|91773\n",
    "Sppn/p-xx-f-palaciovaldes-pg36573.txt'|11|14|105908\n",
    "Sppn/p-xx-f-palaciovaldes-pg42727.txt'|2|16|67928\n",
    "Sppn/p-xx-f-perezdeayala-pg14318.txt'|13|21|86624\n",
    "Sppn/p-xx-f-perezgaldos-pg14311.txt'|5|44|74748\n",
    "Sppn/p-xx-f-unamuno-49149-0.txt'|1|3|61429\n",
    "Sppn/p-xx-f-unamuno-pg44512.txt'|7|0|37075\n",
    "Sppn/p-xx-f-zamacois-pg50757.txt'|2|6|65160\n",
    "Sppn/p-xx-n-castro-pg41337.txt'|0|0|57799\n",
    "Sppn/p-xx-n-martinezruiz-pg26545.txt'|1|8|55547\n",
    "Sppn/p-xx-p-machado-49437-0.txt'|5|0|17105"
   ]
  },
  {
   "cell_type": "code",
   "execution_count": 15,
   "metadata": {},
   "outputs": [],
   "source": [
    "# Recap the counts\n",
    "nos = [569, 553]\n",
    "vos = [46, 84]\n",
    "uds = [283, 317]\n",
    "other = [1383512, 1383502]\n",
    "nos_vos_uds = [[569, 553], [[46, 84], [283, 317]], [1383512, 1383502]]\n",
    "nvu_data = [nos,vos,uds,other]\n",
    "\n",
    "#`numpy.add()` function is used when we want to compute the addition of two array. It add arguments element-wise. \n",
    "\n",
    "#Data set comparing count on vosotros to the remainder of the sub-corpora\n",
    "vosotr = [vos, list(np.add(np.add(nos,uds),other))]"
   ]
  },
  {
   "cell_type": "code",
   "execution_count": 16,
   "metadata": {},
   "outputs": [],
   "source": [
    "nvu_rslt_l = sp.stats.chi2_contingency(nvu_data, correction=False, lambda_='log-likelihood')\n",
    "nvu_rslt_p = sp.stats.chi2_contingency(nvu_data, correction=False, lambda_='pearson')"
   ]
  },
  {
   "cell_type": "code",
   "execution_count": 25,
   "metadata": {},
   "outputs": [
    {
     "data": {
      "text/plain": [
       "(13.426683281427314, 0.0037991237300098474)"
      ]
     },
     "execution_count": 25,
     "metadata": {},
     "output_type": "execute_result"
    }
   ],
   "source": [
    "nvu_rslt_l[0:2]"
   ]
  },
  {
   "cell_type": "code",
   "execution_count": 26,
   "metadata": {},
   "outputs": [
    {
     "data": {
      "text/plain": [
       "(13.261794899155557, 0.004103342632489391)"
      ]
     },
     "execution_count": 26,
     "metadata": {},
     "output_type": "execute_result"
    }
   ],
   "source": [
    "nvu_rslt_p[0:2]"
   ]
  },
  {
   "cell_type": "code",
   "execution_count": 27,
   "metadata": {},
   "outputs": [
    {
     "name": "stdout",
     "output_type": "stream",
     "text": [
      "[[283, 317], [46, 84]]\n"
     ]
    }
   ],
   "source": [
    "pl2 = [uds, vos]\n",
    "print(pl2)"
   ]
  },
  {
   "cell_type": "code",
   "execution_count": 28,
   "metadata": {},
   "outputs": [
    {
     "name": "stdout",
     "output_type": "stream",
     "text": [
      "(6.086311153589268, 0.013623322634384646, 1) (5.991271626094145, 0.014376834659973739, 1)\n"
     ]
    }
   ],
   "source": [
    "pl2_rslt_l = sp.stats.chi2_contingency(pl2, correction=False, lambda_='log-likelihood')\n",
    "pl2_rslt_p = sp.stats.chi2_contingency(pl2, correction=False, lambda_='pearson')\n",
    "print(pl2_rslt_l[0:3], pl2_rslt_p[0:3])"
   ]
  },
  {
   "cell_type": "code",
   "execution_count": 32,
   "metadata": {},
   "outputs": [
    {
     "name": "stdout",
     "output_type": "stream",
     "text": [
      "[329, 401]\n"
     ]
    }
   ],
   "source": [
    "pl2_cnt = list(np.add(uds, vos))\n",
    "print(pl2_cnt)"
   ]
  },
  {
   "cell_type": "code",
   "execution_count": 33,
   "metadata": {},
   "outputs": [
    {
     "data": {
      "text/plain": [
       "[[569, 553], [329, 401]]"
      ]
     },
     "execution_count": 33,
     "metadata": {},
     "output_type": "execute_result"
    }
   ],
   "source": [
    "plpron = [nos, pl2_cnt]\n",
    "plpron"
   ]
  },
  {
   "cell_type": "code",
   "execution_count": 34,
   "metadata": {},
   "outputs": [
    {
     "name": "stdout",
     "output_type": "stream",
     "text": [
      "(5.647537534949173, 0.0174799016650191, 1) (5.64138730443102, 0.017541321829285337, 1)\n"
     ]
    }
   ],
   "source": [
    "plpron_rslt_l = sp.stats.chi2_contingency(plpron, correction=False, lambda_='log-likelihood')\n",
    "plpron_rslt_p = sp.stats.chi2_contingency(plpron, correction=False, lambda_='pearson')\n",
    "print(plpron_rslt_l[0:3], plpron_rslt_p[0:3])"
   ]
  },
  {
   "cell_type": "code",
   "execution_count": 36,
   "metadata": {},
   "outputs": [
    {
     "data": {
      "text/plain": [
       "[[1383512, 1383502], [898, 954]]"
      ]
     },
     "execution_count": 36,
     "metadata": {},
     "output_type": "execute_result"
    }
   ],
   "source": [
    "locpl_cnt = list(np.add(pl2_cnt, nos))\n",
    "loc_other = [other, locpl_cnt]\n",
    "loc_other"
   ]
  },
  {
   "cell_type": "code",
   "execution_count": 37,
   "metadata": {},
   "outputs": [
    {
     "name": "stdout",
     "output_type": "stream",
     "text": [
      "(1.6928345928886301, 0.19322772855858716, 1) (1.6925764643707297, 0.19326168240759212, 1)\n"
     ]
    }
   ],
   "source": [
    "loc_other_rslt_l = sp.stats.chi2_contingency(loc_other, correction=False, lambda_='log-likelihood')\n",
    "loc_other_rslt_p = sp.stats.chi2_contingency(loc_other, correction=False, lambda_='pearson')\n",
    "print(loc_other_rslt_l[0:3], loc_other_rslt_p[0:3])"
   ]
  },
  {
   "cell_type": "code",
   "execution_count": 39,
   "metadata": {},
   "outputs": [
    {
     "name": "stdout",
     "output_type": "stream",
     "text": [
      "13.42668328142707\n"
     ]
    }
   ],
   "source": [
    "totals = np.sum([plpron_rslt_l[0],loc_other_rslt_l[0],pl2_rslt_l[0]])\n",
    "print(totals)"
   ]
  },
  {
   "cell_type": "code",
   "execution_count": 20,
   "metadata": {},
   "outputs": [
    {
     "name": "stdout",
     "output_type": "stream",
     "text": [
      "15.119416399999999\n"
     ]
    }
   ],
   "source": [
    "#Data from Stefan\n",
    "x = 11.2707994+1.926986+0.2287964+1.6928346\n",
    "print(x)"
   ]
  },
  {
   "cell_type": "code",
   "execution_count": 25,
   "metadata": {},
   "outputs": [
    {
     "data": {
      "text/plain": [
       "array([[5.60990680e+02, 5.61009320e+02],\n",
       "       [6.49989201e+01, 6.50010799e+01],\n",
       "       [2.99995016e+02, 3.00004984e+02],\n",
       "       [1.38348402e+06, 1.38352998e+06]])"
      ]
     },
     "execution_count": 25,
     "metadata": {},
     "output_type": "execute_result"
    }
   ],
   "source": [
    "sp.stats.contingency.expected_freq(nvu_data)"
   ]
  },
  {
   "cell_type": "code",
   "execution_count": 35,
   "metadata": {},
   "outputs": [],
   "source": [
    "nvu_tbl = sm.stats.Table(nvu_data)"
   ]
  },
  {
   "cell_type": "code",
   "execution_count": 37,
   "metadata": {},
   "outputs": [
    {
     "name": "stdout",
     "output_type": "stream",
     "text": [
      "A 4x2 contingency table with counts:\n",
      "[[5.690000e+02 5.530000e+02]\n",
      " [4.600000e+01 8.400000e+01]\n",
      " [2.830000e+02 3.170000e+02]\n",
      " [1.383512e+06 1.383502e+06]]\n"
     ]
    }
   ],
   "source": [
    "print(nvu_tbl)"
   ]
  },
  {
   "cell_type": "code",
   "execution_count": 40,
   "metadata": {},
   "outputs": [
    {
     "name": "stdout",
     "output_type": "stream",
     "text": [
      "[[ 0.47831855 -0.47831855]\n",
      " [-3.33270929  3.33270929]\n",
      " [-1.38778762  1.38778762]\n",
      " [ 1.30099057 -1.30099057]]\n"
     ]
    }
   ],
   "source": [
    "print(nvu_tbl.standardized_resids)"
   ]
  },
  {
   "cell_type": "code",
   "execution_count": 41,
   "metadata": {},
   "outputs": [],
   "source": [
    "nvu_2nd = [nvu_data[1], nvu_data[2]]"
   ]
  },
  {
   "cell_type": "code",
   "execution_count": 42,
   "metadata": {},
   "outputs": [],
   "source": [
    "nvu_2nd_L = sp.stats.chi2_contingency(nvu_2nd, correction=False, lambda_='log-likelihood')"
   ]
  },
  {
   "cell_type": "code",
   "execution_count": 43,
   "metadata": {},
   "outputs": [
    {
     "name": "stdout",
     "output_type": "stream",
     "text": [
      "(6.086311153589268, 0.013623322634384646, 1, array([[ 58.5890411,  71.4109589],\n",
      "       [270.4109589, 329.5890411]]))\n"
     ]
    }
   ],
   "source": [
    "print(nvu_2nd_L)"
   ]
  },
  {
   "cell_type": "code",
   "execution_count": 45,
   "metadata": {},
   "outputs": [],
   "source": [
    "nvu_pl = [np.add(nvu_data[1], nvu_data[2]),nvu_data[0],nvu_data[3]]"
   ]
  },
  {
   "cell_type": "code",
   "execution_count": 46,
   "metadata": {},
   "outputs": [],
   "source": [
    "nvu_pl_L = sp.stats.chi2_contingency(nvu_pl, correction=False, lambda_='log-likelihood')"
   ]
  },
  {
   "cell_type": "code",
   "execution_count": 47,
   "metadata": {},
   "outputs": [
    {
     "name": "stdout",
     "output_type": "stream",
     "text": [
      "(7.340372127838037, 0.025471730135807533, 2, array([[3.64993936e+02, 3.65006064e+02],\n",
      "       [5.60990680e+02, 5.61009320e+02],\n",
      "       [1.38348402e+06, 1.38352998e+06]]))\n"
     ]
    }
   ],
   "source": [
    "print(nvu_pl_L)"
   ]
  },
  {
   "cell_type": "code",
   "execution_count": null,
   "metadata": {},
   "outputs": [],
   "source": []
  },
  {
   "cell_type": "markdown",
   "metadata": {},
   "source": [
    "### Now try the pseudo-corpora"
   ]
  },
  {
   "cell_type": "code",
   "execution_count": 224,
   "metadata": {},
   "outputs": [],
   "source": [
    "pseudo_csr = SpanishCategorizedPlaintextCorpusReader('./SpRand_cp_1', '.*\\.txt', cat_pattern='(a_|b_).*')"
   ]
  },
  {
   "cell_type": "code",
   "execution_count": 226,
   "metadata": {},
   "outputs": [
    {
     "data": {
      "text/plain": [
       "['a_', 'b_']"
      ]
     },
     "execution_count": 226,
     "metadata": {},
     "output_type": "execute_result"
    }
   ],
   "source": [
    "pseudo_csr.categories()"
   ]
  },
  {
   "cell_type": "code",
   "execution_count": 232,
   "metadata": {},
   "outputs": [],
   "source": [
    "pseudo_a_wrds = pseudo_csr.words(categories='a_')"
   ]
  },
  {
   "cell_type": "code",
   "execution_count": 233,
   "metadata": {},
   "outputs": [],
   "source": [
    "pseudo_b_wrds = pseudo_csr.words(categories='b_')"
   ]
  },
  {
   "cell_type": "code",
   "execution_count": 234,
   "metadata": {},
   "outputs": [
    {
     "data": {
      "text/plain": [
       "1332041"
      ]
     },
     "execution_count": 234,
     "metadata": {},
     "output_type": "execute_result"
    }
   ],
   "source": [
    "len(pseudo_a_wrds)"
   ]
  },
  {
   "cell_type": "code",
   "execution_count": 235,
   "metadata": {},
   "outputs": [
    {
     "data": {
      "text/plain": [
       "1343241"
      ]
     },
     "execution_count": 235,
     "metadata": {},
     "output_type": "execute_result"
    }
   ],
   "source": [
    "len(pseudo_b_wrds)"
   ]
  },
  {
   "cell_type": "code",
   "execution_count": 237,
   "metadata": {},
   "outputs": [],
   "source": [
    "a_pseudofd = FreqDist(pseudo_a_wrds)"
   ]
  },
  {
   "cell_type": "code",
   "execution_count": 238,
   "metadata": {},
   "outputs": [],
   "source": [
    "b_pseudofd = FreqDist(pseudo_b_wrds)"
   ]
  },
  {
   "cell_type": "code",
   "execution_count": 241,
   "metadata": {},
   "outputs": [
    {
     "data": {
      "text/plain": [
       "45"
      ]
     },
     "execution_count": 241,
     "metadata": {},
     "output_type": "execute_result"
    }
   ],
   "source": [
    "a_pseudofd['vosotros']"
   ]
  },
  {
   "cell_type": "code",
   "execution_count": 242,
   "metadata": {},
   "outputs": [
    {
     "data": {
      "text/plain": [
       "47"
      ]
     },
     "execution_count": 242,
     "metadata": {},
     "output_type": "execute_result"
    }
   ],
   "source": [
    "b_pseudofd['vosotros']"
   ]
  },
  {
   "cell_type": "code",
   "execution_count": 243,
   "metadata": {},
   "outputs": [
    {
     "data": {
      "text/plain": [
       "244"
      ]
     },
     "execution_count": 243,
     "metadata": {},
     "output_type": "execute_result"
    }
   ],
   "source": [
    "a_pseudofd['ustedes']"
   ]
  },
  {
   "cell_type": "code",
   "execution_count": 244,
   "metadata": {},
   "outputs": [
    {
     "data": {
      "text/plain": [
       "259"
      ]
     },
     "execution_count": 244,
     "metadata": {},
     "output_type": "execute_result"
    }
   ],
   "source": [
    "b_pseudofd['ustedes']"
   ]
  },
  {
   "cell_type": "markdown",
   "metadata": {},
   "source": [
    "### Dispersion\n",
    "Look at each novel for dispersion"
   ]
  },
  {
   "cell_type": "code",
   "execution_count": 107,
   "metadata": {},
   "outputs": [],
   "source": [
    "disp = {}"
   ]
  },
  {
   "cell_type": "code",
   "execution_count": 108,
   "metadata": {},
   "outputs": [],
   "source": [
    "for nov in csr.fileids():\n",
    "    novwds = csr.words(nov)\n",
    "    novfd = FreqDist(novwds)\n",
    "    nov_vos_uds = []\n",
    "    n = 0\n",
    "    for w in novfd.keys():\n",
    "        if w.lower().startswith('vosotr'):\n",
    "            n = n+novfd[w]\n",
    "    nov_vos_uds.append(n)\n",
    "    n = 0\n",
    "    for w in novfd.keys():\n",
    "        if (w.lower() == 'ustedes')|(w.lower() == 'vds.'):\n",
    "            n = n+novfd[w]\n",
    "    nov_vos_uds.append(n)\n",
    "    remnant = len(novwds) - (nov_vos_uds[0] + nov_vos_uds[1])\n",
    "    nov_vos_uds.append(remnant)\n",
    "    disp[nov] = nov_vos_uds"
   ]
  },
  {
   "cell_type": "code",
   "execution_count": 110,
   "metadata": {},
   "outputs": [],
   "source": [
    "disp_am = {}\n",
    "disp_pn = {}"
   ]
  },
  {
   "cell_type": "code",
   "execution_count": 111,
   "metadata": {},
   "outputs": [],
   "source": [
    "for nov in csr.fileids(categories='Spam'):\n",
    "    novwds = csr.words(nov) #Find the words in a novel\n",
    "    novfd = FreqDist(novwds) #Build the FreqDist\n",
    "    nov_vos_uds_nos = {} #Initialize an empty dict to be used as the value in the main dict\n",
    "    n = 0\n",
    "    for w in novfd.keys(): #Start cycling through the entries in the FreqDist\n",
    "        if w.lower().startswith('vosotr'): #Count the number of 'vosotros/as'\n",
    "            n = n+novfd[w] \n",
    "    nov_vos_uds_nos['vos'] = n #Enter the item as one of the values of the local dict \n",
    "    n = 0\n",
    "    for w in novfd.keys():\n",
    "        if (w.lower() == 'ustedes')|(w.lower() == 'vds.'):\n",
    "            n = n+novfd[w]\n",
    "    nov_vos_uds_nos['uds'] = n\n",
    "    n = 0\n",
    "    for w in novfd.keys():\n",
    "        if w.lower().startswith('nosotr'):\n",
    "            n = n+novfd[w]\n",
    "    nov_vos_uds_nos['nos'] = n\n",
    "    remnant = len(novwds) - (nov_vos_uds_nos['vos'] + nov_vos_uds_nos['nos'] + nov_vos_uds_nos['uds'])\n",
    "    nov_vos_uds_nos['rem'] = remnant\n",
    "    disp_am[nov] = nov_vos_uds_nos"
   ]
  },
  {
   "cell_type": "code",
   "execution_count": 129,
   "metadata": {},
   "outputs": [
    {
     "data": {
      "text/plain": [
       "dict_keys(['Spam/a-xix-d-gorostiza-pg12368.txt', 'Spam/a-xix-f-cane-pg41575.txt', 'Spam/a-xix-f-delgado-pg16082.txt', 'Spam/a-xix-f-lastarria-pg45945.txt', 'Spam/a-xix-f-marti-pg18166.txt', 'Spam/a-xix-f-villaverde-pg28281.txt', 'Spam/a-xix-n-lopez-pg31724.txt', 'Spam/a-xix-n-nieves-pg52469.txt', 'Spam/a-xx-f-bunge-pg26771.txt', 'Spam/a-xx-f-larreta-pg29920.txt', 'Spam/a-xx-f-leumann-pg25054.txt', 'Spam/a-xx-f-quiroga-pg13507.txt', 'Spam/a-xx-f-vedia-pg26231.txt', 'Spam/a-xx-f-viana-pg53798.txt', 'Spam/a-xx-n-dario-52050-0.txt', 'Spam/a-xx-n-gutierrez-53927-0.txt', 'Spam/a-xx-n-palma-pg34565.txt', 'Spam/a-xx-n-quiroga-54064-0.txt', 'Spam/a-xx-n-rodo-pg22899.txt', 'Spam/a-xx-p-dario-51458-0.txt', 'Spam/a-xx-p-dario-51711-0.txt', 'Spam/a-xx-p-dario-pg50341.txt'])"
      ]
     },
     "execution_count": 129,
     "metadata": {},
     "output_type": "execute_result"
    }
   ],
   "source": [
    "disp_am.keys()"
   ]
  },
  {
   "cell_type": "code",
   "execution_count": 113,
   "metadata": {},
   "outputs": [],
   "source": [
    "for nov in csr.fileids(categories='Sppn'):\n",
    "    novwds = csr.words(nov) #Find the words in a novel\n",
    "    novfd = FreqDist(novwds) #Build the FreqDist\n",
    "    nov_vos_uds_nos = {} #Initialize an empty dict to be used as the value in the main dict\n",
    "    n = 0\n",
    "    for w in novfd.keys(): #Start cycling through the entries in the FreqDist\n",
    "        if w.lower().startswith('vosotr'): #Count the number of 'vosotros/as'\n",
    "            n = n+novfd[w] \n",
    "    nov_vos_uds_nos['vos'] = n #Enter the item as one of the values of the local dict \n",
    "    n = 0\n",
    "    for w in novfd.keys():\n",
    "        if (w.lower() == 'ustedes')|(w.lower() == 'vds.'):\n",
    "            n = n+novfd[w]\n",
    "    nov_vos_uds_nos['uds'] = n\n",
    "    n = 0\n",
    "    for w in novfd.keys():\n",
    "        if w.lower().startswith('nosotr'):\n",
    "            n = n+novfd[w]\n",
    "    nov_vos_uds_nos['nos'] = n\n",
    "    remnant = len(novwds) - (nov_vos_uds_nos['vos'] + nov_vos_uds_nos['nos'] + nov_vos_uds_nos['uds'])\n",
    "    nov_vos_uds_nos['rem'] = remnant\n",
    "    disp_pn[nov] = nov_vos_uds_nos"
   ]
  },
  {
   "cell_type": "code",
   "execution_count": 109,
   "metadata": {},
   "outputs": [
    {
     "data": {
      "text/plain": [
       "dict_items([('Spam/a-xix-d-gorostiza-pg12368.txt', [0, 15, 20784]), ('Spam/a-xix-f-cane-pg41575.txt', [3, 22, 94650]), ('Spam/a-xix-f-delgado-pg16082.txt', [1, 48, 111735]), ('Spam/a-xix-f-lastarria-pg45945.txt', [10, 20, 109976]), ('Spam/a-xix-f-marti-pg18166.txt', [0, 6, 42832]), ('Spam/a-xix-f-villaverde-pg28281.txt', [1, 43, 218691]), ('Spam/a-xix-n-lopez-pg31724.txt', [0, 23, 60155]), ('Spam/a-xix-n-nieves-pg52469.txt', [0, 0, 4389]), ('Spam/a-xx-f-bunge-pg26771.txt', [1, 6, 63415]), ('Spam/a-xx-f-larreta-pg29920.txt', [3, 0, 103832]), ('Spam/a-xx-f-leumann-pg25054.txt', [0, 17, 67637]), ('Spam/a-xx-f-quiroga-pg13507.txt', [0, 10, 61701]), ('Spam/a-xx-f-vedia-pg26231.txt', [0, 48, 64241]), ('Spam/a-xx-f-viana-pg53798.txt', [0, 14, 37620]), ('Spam/a-xx-n-dario-52050-0.txt', [0, 4, 44957]), ('Spam/a-xx-n-gutierrez-53927-0.txt', [1, 6, 63064]), ('Spam/a-xx-n-palma-pg34565.txt', [0, 1, 62185]), ('Spam/a-xx-n-quiroga-54064-0.txt', [4, 0, 80559]), ('Spam/a-xx-n-rodo-pg22899.txt', [13, 0, 29185]), ('Spam/a-xx-p-dario-51458-0.txt', [5, 0, 11104]), ('Spam/a-xx-p-dario-51711-0.txt', [1, 0, 16737]), ('Spam/a-xx-p-dario-pg50341.txt', [3, 0, 14632]), ('Sppn/p-xix-f-blascoibanez-pg14944.txt', [0, 10, 64142]), ('Sppn/p-xix-f-blascoibanez-pg16413.txt', [4, 21, 106497]), ('Sppn/p-xix-f-fernandezygonzalez-pg27295.txt', [1, 3, 34307]), ('Sppn/p-xix-f-pereda-pg23957.txt', [10, 72, 121473]), ('Sppn/p-xix-f-perezgaldos-pg21906.txt', [10, 31, 93007]), ('Sppn/p-xix-f-picon-pg26929.txt', [3, 1, 37704]), ('Sppn/p-xix-n-sauri-pg44120.txt', [0, 1, 14779]), ('Sppn/p-xix-n-valera-35882-0.txt', [0, 3, 94901]), ('Sppn/p-xx-d-munozseca-49013-0.txt', [0, 0, 23670]), ('Sppn/p-xx-f-baroja-49280-0.txt', [2, 57, 72479]), ('Sppn/p-xx-f-espina-pg47388.txt', [7, 6, 91773]), ('Sppn/p-xx-f-palaciovaldes-pg36573.txt', [11, 14, 105908]), ('Sppn/p-xx-f-palaciovaldes-pg42727.txt', [2, 16, 67928]), ('Sppn/p-xx-f-perezdeayala-pg14318.txt', [13, 21, 86624]), ('Sppn/p-xx-f-perezgaldos-pg14311.txt', [5, 44, 74748]), ('Sppn/p-xx-f-unamuno-49149-0.txt', [1, 3, 61429]), ('Sppn/p-xx-f-unamuno-pg44512.txt', [7, 0, 37075]), ('Sppn/p-xx-f-zamacois-pg50757.txt', [2, 6, 65160]), ('Sppn/p-xx-n-castro-pg41337.txt', [0, 0, 57799]), ('Sppn/p-xx-n-martinezruiz-pg26545.txt', [1, 8, 55547]), ('Sppn/p-xx-p-machado-49437-0.txt', [5, 0, 17105])])"
      ]
     },
     "execution_count": 109,
     "metadata": {},
     "output_type": "execute_result"
    }
   ],
   "source": [
    "disp.items()"
   ]
  },
  {
   "cell_type": "code",
   "execution_count": 151,
   "metadata": {},
   "outputs": [],
   "source": [
    "disp_ratios_pn = []\n",
    "disp_ratios_am = []\n",
    "for key in disp.keys():\n",
    "    if (disp[key][0] + disp[key][1]) > 0:\n",
    "        n = disp[key][0]/(disp[key][0] + disp[key][1])\n",
    "        if key.startswith('Spam'):\n",
    "            disp_ratios_am.append(n)\n",
    "        elif key.startswith('Sppn'):\n",
    "            disp_ratios_pn.append(n)\n",
    "    else:\n",
    "        if key.startswith('Spam'):\n",
    "            disp_ratios_am.append('nul')\n",
    "        elif key.startswith('Sppn'):\n",
    "            disp_ratios_pn.append('nul')"
   ]
  },
  {
   "cell_type": "code",
   "execution_count": 152,
   "metadata": {},
   "outputs": [
    {
     "data": {
      "text/plain": [
       "[0.0,\n",
       " 0.16,\n",
       " 0.25,\n",
       " 0.12195121951219512,\n",
       " 0.24390243902439024,\n",
       " 0.75,\n",
       " 0.0,\n",
       " 0.0,\n",
       " 'nul',\n",
       " 0.03389830508474576,\n",
       " 0.5384615384615384,\n",
       " 0.44,\n",
       " 0.1111111111111111,\n",
       " 0.38235294117647056,\n",
       " 0.10204081632653061,\n",
       " 0.25,\n",
       " 1.0,\n",
       " 0.25,\n",
       " 'nul',\n",
       " 0.1111111111111111,\n",
       " 1.0]"
      ]
     },
     "execution_count": 152,
     "metadata": {},
     "output_type": "execute_result"
    }
   ],
   "source": [
    "disp_ratios_pn"
   ]
  },
  {
   "cell_type": "code",
   "execution_count": 153,
   "metadata": {},
   "outputs": [
    {
     "data": {
      "text/plain": [
       "[0.0,\n",
       " 0.12,\n",
       " 0.02040816326530612,\n",
       " 0.3333333333333333,\n",
       " 0.0,\n",
       " 0.022727272727272728,\n",
       " 0.0,\n",
       " 'nul',\n",
       " 0.14285714285714285,\n",
       " 1.0,\n",
       " 0.0,\n",
       " 0.0,\n",
       " 0.0,\n",
       " 0.0,\n",
       " 0.0,\n",
       " 0.14285714285714285,\n",
       " 0.0,\n",
       " 1.0,\n",
       " 1.0,\n",
       " 1.0,\n",
       " 1.0,\n",
       " 1.0]"
      ]
     },
     "execution_count": 153,
     "metadata": {},
     "output_type": "execute_result"
    }
   ],
   "source": [
    "disp_ratios_am"
   ]
  },
  {
   "cell_type": "markdown",
   "metadata": {},
   "source": [
    "### Matplotlib"
   ]
  },
  {
   "cell_type": "code",
   "execution_count": 114,
   "metadata": {},
   "outputs": [
    {
     "name": "stdout",
     "output_type": "stream",
     "text": [
      "Using matplotlib backend: MacOSX\n"
     ]
    }
   ],
   "source": [
    "%matplotlib"
   ]
  },
  {
   "cell_type": "code",
   "execution_count": 115,
   "metadata": {},
   "outputs": [],
   "source": [
    "import matplotlib.pyplot as plt"
   ]
  },
  {
   "cell_type": "code",
   "execution_count": 130,
   "metadata": {},
   "outputs": [],
   "source": [
    "names_am = list(disp_am.keys())"
   ]
  },
  {
   "cell_type": "code",
   "execution_count": 179,
   "metadata": {},
   "outputs": [],
   "source": [
    "names_pn = list(disp_pn.keys())"
   ]
  },
  {
   "cell_type": "code",
   "execution_count": 131,
   "metadata": {},
   "outputs": [
    {
     "name": "stdout",
     "output_type": "stream",
     "text": [
      "['Spam/a-xix-d-gorostiza-pg12368.txt', 'Spam/a-xix-f-cane-pg41575.txt', 'Spam/a-xix-f-delgado-pg16082.txt', 'Spam/a-xix-f-lastarria-pg45945.txt', 'Spam/a-xix-f-marti-pg18166.txt', 'Spam/a-xix-f-villaverde-pg28281.txt', 'Spam/a-xix-n-lopez-pg31724.txt', 'Spam/a-xix-n-nieves-pg52469.txt', 'Spam/a-xx-f-bunge-pg26771.txt', 'Spam/a-xx-f-larreta-pg29920.txt', 'Spam/a-xx-f-leumann-pg25054.txt', 'Spam/a-xx-f-quiroga-pg13507.txt', 'Spam/a-xx-f-vedia-pg26231.txt', 'Spam/a-xx-f-viana-pg53798.txt', 'Spam/a-xx-n-dario-52050-0.txt', 'Spam/a-xx-n-gutierrez-53927-0.txt', 'Spam/a-xx-n-palma-pg34565.txt', 'Spam/a-xx-n-quiroga-54064-0.txt', 'Spam/a-xx-n-rodo-pg22899.txt', 'Spam/a-xx-p-dario-51458-0.txt', 'Spam/a-xx-p-dario-51711-0.txt', 'Spam/a-xx-p-dario-pg50341.txt']\n"
     ]
    }
   ],
   "source": [
    "print(names_am)"
   ]
  },
  {
   "cell_type": "code",
   "execution_count": 133,
   "metadata": {},
   "outputs": [
    {
     "name": "stdout",
     "output_type": "stream",
     "text": [
      "[5, 82, 72, 60, 5, 61, 28, 9, 8, 13, 28, 24, 42, 10, 14, 36, 17, 36, 11, 1, 2, 5]\n"
     ]
    }
   ],
   "source": [
    "nos_am_data = []\n",
    "for fileid in names_am:\n",
    "    n = disp_am[fileid]['nos']\n",
    "    nos_am_data.append(n)\n",
    "print(nos_am_data)"
   ]
  },
  {
   "cell_type": "code",
   "execution_count": 180,
   "metadata": {},
   "outputs": [
    {
     "name": "stdout",
     "output_type": "stream",
     "text": [
      "[2, 6, 11, 58, 38, 2, 1, 104, 0, 96, 5, 30, 29, 15, 79, 20, 10, 19, 5, 15, 8]\n"
     ]
    }
   ],
   "source": [
    "nos_pn_data = []\n",
    "for fileid in names_pn:\n",
    "    n = disp_pn[fileid]['nos']\n",
    "    nos_pn_data.append(n)\n",
    "print(nos_pn_data)"
   ]
  },
  {
   "cell_type": "code",
   "execution_count": 181,
   "metadata": {},
   "outputs": [],
   "source": [
    "named_pn_nos = list(zip(names_pn, nos_pn_data))"
   ]
  },
  {
   "cell_type": "code",
   "execution_count": 182,
   "metadata": {},
   "outputs": [],
   "source": [
    "named_pn_nos.sort(key=lambda x: x[1])"
   ]
  },
  {
   "cell_type": "code",
   "execution_count": 161,
   "metadata": {},
   "outputs": [
    {
     "data": {
      "text/plain": [
       "[('Spam/a-xx-p-dario-51458-0.txt', 1),\n",
       " ('Spam/a-xx-p-dario-51711-0.txt', 2),\n",
       " ('Spam/a-xix-d-gorostiza-pg12368.txt', 5),\n",
       " ('Spam/a-xix-f-marti-pg18166.txt', 5),\n",
       " ('Spam/a-xx-p-dario-pg50341.txt', 5),\n",
       " ('Spam/a-xx-f-bunge-pg26771.txt', 8),\n",
       " ('Spam/a-xix-n-nieves-pg52469.txt', 9),\n",
       " ('Spam/a-xx-f-viana-pg53798.txt', 10),\n",
       " ('Spam/a-xx-n-rodo-pg22899.txt', 11),\n",
       " ('Spam/a-xx-f-larreta-pg29920.txt', 13),\n",
       " ('Spam/a-xx-n-dario-52050-0.txt', 14),\n",
       " ('Spam/a-xx-n-palma-pg34565.txt', 17),\n",
       " ('Spam/a-xx-f-quiroga-pg13507.txt', 24),\n",
       " ('Spam/a-xix-n-lopez-pg31724.txt', 28),\n",
       " ('Spam/a-xx-f-leumann-pg25054.txt', 28),\n",
       " ('Spam/a-xx-n-gutierrez-53927-0.txt', 36),\n",
       " ('Spam/a-xx-n-quiroga-54064-0.txt', 36),\n",
       " ('Spam/a-xx-f-vedia-pg26231.txt', 42),\n",
       " ('Spam/a-xix-f-lastarria-pg45945.txt', 60),\n",
       " ('Spam/a-xix-f-villaverde-pg28281.txt', 61),\n",
       " ('Spam/a-xix-f-delgado-pg16082.txt', 72),\n",
       " ('Spam/a-xix-f-cane-pg41575.txt', 82)]"
      ]
     },
     "execution_count": 161,
     "metadata": {},
     "output_type": "execute_result"
    }
   ],
   "source": [
    "named_am_nos"
   ]
  },
  {
   "cell_type": "code",
   "execution_count": 170,
   "metadata": {},
   "outputs": [
    {
     "name": "stdout",
     "output_type": "stream",
     "text": [
      "[1, 2, 5, 5, 5, 8, 9, 10, 11, 13, 14, 17, 24, 28, 28, 36, 36, 42, 60, 61, 72, 82]\n"
     ]
    }
   ],
   "source": [
    "sorted_am_names = []\n",
    "sorted_am_data = []\n",
    "for it in named_am_nos:\n",
    "    sorted_am_names.append(it[0])\n",
    "    sorted_am_data.append(it[1])\n",
    "print(sorted_am_data)"
   ]
  },
  {
   "cell_type": "code",
   "execution_count": 183,
   "metadata": {},
   "outputs": [
    {
     "name": "stdout",
     "output_type": "stream",
     "text": [
      "[0, 1, 2, 2, 5, 5, 6, 8, 10, 11, 15, 15, 19, 20, 29, 30, 38, 58, 79, 96, 104]\n"
     ]
    }
   ],
   "source": [
    "sorted_pn_names = []\n",
    "sorted_pn_data = []\n",
    "for it in named_pn_nos:\n",
    "    sorted_pn_names.append(it[0])\n",
    "    sorted_pn_data.append(it[1])\n",
    "print(sorted_pn_data)"
   ]
  },
  {
   "cell_type": "code",
   "execution_count": 174,
   "metadata": {},
   "outputs": [],
   "source": [
    "names_am = np.arange(len(sorted_am_data))"
   ]
  },
  {
   "cell_type": "code",
   "execution_count": 184,
   "metadata": {},
   "outputs": [],
   "source": [
    "names_pn = np.arange(len(sorted_pn_data))"
   ]
  },
  {
   "cell_type": "code",
   "execution_count": 190,
   "metadata": {},
   "outputs": [
    {
     "data": {
      "text/plain": [
       "<BarContainer object of 21 artists>"
      ]
     },
     "execution_count": 190,
     "metadata": {},
     "output_type": "execute_result"
    }
   ],
   "source": [
    "plt.bar(names_pn, sorted_pn_data, width=0.4, align='edge')"
   ]
  },
  {
   "cell_type": "code",
   "execution_count": 189,
   "metadata": {},
   "outputs": [
    {
     "data": {
      "text/plain": [
       "<BarContainer object of 22 artists>"
      ]
     },
     "execution_count": 189,
     "metadata": {},
     "output_type": "execute_result"
    }
   ],
   "source": [
    "plt.bar(names_am, sorted_am_data, width=-0.4, align='edge')"
   ]
  },
  {
   "cell_type": "code",
   "execution_count": null,
   "metadata": {},
   "outputs": [],
   "source": []
  },
  {
   "cell_type": "code",
   "execution_count": 107,
   "metadata": {},
   "outputs": [],
   "source": [
    "n1 = len(disp_ratios_pn)\n",
    "n2 = len(disp_ratios_am)"
   ]
  },
  {
   "cell_type": "code",
   "execution_count": 113,
   "metadata": {},
   "outputs": [],
   "source": [
    "fig, ax = plt.subplots()\n",
    "rects1 = plt.bar(np.arange(n1),disp_ratios_pn, width = 0.4)\n",
    "racts2 = plt.bar(np.arange(n2)+n1, disp_ratios_am, width = 0.4)"
   ]
  },
  {
   "cell_type": "code",
   "execution_count": 111,
   "metadata": {},
   "outputs": [
    {
     "data": {
      "text/plain": [
       "<BarContainer object of 43 artists>"
      ]
     },
     "execution_count": 111,
     "metadata": {},
     "output_type": "execute_result"
    }
   ],
   "source": [
    "plt.bar(loc, disp_ratios, width = 0.4)"
   ]
  },
  {
   "cell_type": "code",
   "execution_count": 114,
   "metadata": {},
   "outputs": [],
   "source": [
    "plt.show()"
   ]
  },
  {
   "cell_type": "markdown",
   "metadata": {},
   "source": [
    "Normalize by length of text\n",
    "\n",
    "use the disp_am and disp_pn dicts."
   ]
  },
  {
   "cell_type": "code",
   "execution_count": 191,
   "metadata": {},
   "outputs": [
    {
     "name": "stdout",
     "output_type": "stream",
     "text": [
      "[0.00024039617289292755, 0.0008661209400580935, 0.0006440993344306878, 0.0005454247950111812, 0.00011671880106447547, 0.0002788762658010835, 0.0004652863172587989, 0.002050580997949419, 0.00012613919460124248, 0.00012519863244570714, 0.0004138705767582109, 0.00038890959472379316, 0.0006532999424473861, 0.000265717170643567, 0.00031138097462245055, 0.0005707853054494141, 0.0002733734281027884, 0.0004468552561349503, 0.0003767381327488184, 9.001710324961742e-05, 0.0001194885888397658, 0.00034164673727365904]\n"
     ]
    }
   ],
   "source": [
    "am_nos_ratios = []\n",
    "for key in disp_am.keys():\n",
    "    ratio = disp_am[key]['nos']/len(csr.words(key))\n",
    "    am_nos_ratios.append(ratio)\n",
    "print(am_nos_ratios)"
   ]
  },
  {
   "cell_type": "code",
   "execution_count": 192,
   "metadata": {},
   "outputs": [
    {
     "name": "stdout",
     "output_type": "stream",
     "text": [
      "[3.117595710188303e-05, 5.632639267005877e-05, 0.0003205968931246539, 0.00047715026119863436, 0.00040839136789613963, 5.303914288745094e-05, 6.765899864682003e-05, 0.0010958442215291242, 0.0, 0.0013234442636962695, 5.447453860065805e-05, 0.00028319787035201497, 0.0004268095252111971, 0.0001730942325001731, 0.0010561920932657728, 0.00032555792489378675, 0.0002696726174424249, 0.0002915541369997545, 8.650668696690254e-05, 0.00026999784001727987, 0.000467562828755114]\n"
     ]
    }
   ],
   "source": [
    "pn_nos_ratios = []\n",
    "for key in disp_pn.keys():\n",
    "    ratio = disp_pn[key]['nos']/len(csr.words(key))\n",
    "    pn_nos_ratios.append(ratio)\n",
    "print(pn_nos_ratios)"
   ]
  },
  {
   "cell_type": "markdown",
   "metadata": {},
   "source": [
    "Is there a single text that has too many nos vs vos-uds?"
   ]
  },
  {
   "cell_type": "code",
   "execution_count": 194,
   "metadata": {},
   "outputs": [
    {
     "name": "stdout",
     "output_type": "stream",
     "text": [
      "[0.75, 0.2336448598130841, 0.4049586776859504, 0.3333333333333333, 0.5454545454545454, 0.41904761904761906, 0.45098039215686275, 0.0, 0.4666666666666667, 0.1875, 0.37777777777777777, 0.29411764705882354, 0.5333333333333333, 0.5833333333333334, 0.2222222222222222, 0.16279069767441862, 0.05555555555555555, 0.1, 0.5416666666666666, 0.8333333333333334, 0.3333333333333333, 0.375]\n"
     ]
    }
   ],
   "source": [
    "first_second_an_ratios = []\n",
    "for key in disp_am.keys():\n",
    "    ratio = (disp_am[key]['vos']+disp_am[key]['uds'])/(disp_am[key]['vos']+disp_am[key]['uds']+disp_am[key]['nos'])\n",
    "    first_second_an_ratios.append(ratio)\n",
    "print(first_second_an_ratios)"
   ]
  },
  {
   "cell_type": "code",
   "execution_count": 196,
   "metadata": {},
   "outputs": [
    {
     "name": "stdout",
     "output_type": "stream",
     "text": [
      "[0.8333333333333334, 0.8064516129032258, 0.26666666666666666, 0.5857142857142857, 0.5189873417721519, 0.6666666666666666, 0.5, 0.028037383177570093, 0.38064516129032255, 0.7222222222222222, 0.45454545454545453, 0.3829787234042553, 0.6938775510204082, 0.3828125, 0.16666666666666666, 0.4117647058823529, 0.2962962962962963, 0.0, 0.375, 0.38461538461538464]\n"
     ]
    }
   ],
   "source": [
    "first_second_pn_ratios = []\n",
    "for key in disp_pn.keys():\n",
    "    try:\n",
    "        ratio = (disp_pn[key]['vos']+disp_pn[key]['uds'])/(disp_pn[key]['vos']+disp_pn[key]['uds']+disp_pn[key]['nos'])\n",
    "        first_second_pn_ratios.append(ratio)\n",
    "    except ZeroDivisionError:\n",
    "        continue\n",
    "print(first_second_pn_ratios)"
   ]
  },
  {
   "cell_type": "code",
   "execution_count": 199,
   "metadata": {},
   "outputs": [
    {
     "name": "stdout",
     "output_type": "stream",
     "text": [
      "Ttest_indResult(statistic=1.016526671646526, pvalue=0.3156993734991788)\n"
     ]
    }
   ],
   "source": [
    "rslt = sp.stats.ttest_ind(first_second_pn_ratios, first_second_an_ratios, equal_var=False)\n",
    "print(rslt)"
   ]
  },
  {
   "cell_type": "code",
   "execution_count": 171,
   "metadata": {},
   "outputs": [],
   "source": [
    "bi_words = csr.words('Spam/a-xx-n-rodo-pg22899.txt')"
   ]
  },
  {
   "cell_type": "code",
   "execution_count": 172,
   "metadata": {},
   "outputs": [],
   "source": [
    "bi_text = Text(bi_words)"
   ]
  },
  {
   "cell_type": "code",
   "execution_count": 175,
   "metadata": {},
   "outputs": [
    {
     "name": "stdout",
     "output_type": "stream",
     "text": [
      "Displaying 16 of 16 matches:\n",
      "zca ardiente y eficaz en vosotros . Yo os digo con Renán : « La juventud es el d\n",
      " ¿ reflejaréis quizá sobre el arte que os estudie imágenes más luminosas y triun\n",
      "ento , entrad , pues , a la vida , que os abre sus hondos horizontes , con la no\n",
      "nte de su juventud . -- He ahí por qué os hablo . He ahí por qué me interesa ext\n",
      "es , de cómo consideraréis la vida que os espera . * * * La divergencia de las v\n",
      ", sino la plenitud de vuestro ser . No os encojáis de hombros delante de ninguna\n",
      "de que vuestra organización individual os liga con preferencia a manifestaciones\n",
      "e todas las condenaciones morales . Yo os ruego que os defendáis , en la milicia\n",
      "ondenaciones morales . Yo os ruego que os defendáis , en la milicia de la vida ,\n",
      " regresión vulgarizadora contra la que os prevengo comenzará por sacrificar lo m\n",
      "creencia de enemistades parecidas . Si os proponéis vulgarizar el respeto por lo\n",
      "democracia , una inspección severa que os permite a vosotros , los que colaborar\n",
      " lo observa , en el mismo libro de que os hablaba , Bérenger -- la armonía de lo\n",
      "observador de sus costumbres políticas os hablará de cómo la obsesión del interé\n",
      "nsiderarla personificada en vosotros . Os hablo ahora figurándome que sois los d\n",
      "l de la vida misma y la esperanza , yo os pido una parte de vuestra alma para la\n"
     ]
    }
   ],
   "source": [
    "bi_text.concordance('os')"
   ]
  },
  {
   "cell_type": "markdown",
   "metadata": {},
   "source": [
    "### SOMETHING DIFFERENT\n",
    "\n",
    "The chi-square approach is based on the following model: The sampling unit is the token, and the variable being measure is the token's type. This can be a binomial (is the token of type x or not), or a mutinomial (is the token of types x1...xn?). This approach is well suited to build a language model when the task is to predict the type of the next token. We use the frequencies of the types to estimate the probability of a token being of a certain type. Type frequencies have been used in comparative corpus research to find specialized terms. Given a term T with a frequency f1 in corpus 1 and a frequency f2 in corpus 2, we construct a table `[[f1, ~f1], [f2, ~f2]]`, where fx + ~fx = Cx for a corpus size C. A high enough chi^2 value indicates that the type frequency is not independent of the category of the corpora, and may be taken as a _keyword_ associated with a particular category.\n",
    "\n",
    "There are known problems with this approach.\n",
    "\n",
    "Another shortcoming is conceptual. We are not really interested in predicting the type of the next token conditioned to the category of the corpus. We are interested in finding which types are characteristic of a sub-corpus. The same type is measured twice, so to speak, once in each sub-corpus, with its token count as the variable being measured. If a type is not characteristic of a sub-corpus, we expect its (standardized) token counts not to significantly differ across sub-corpora. \n",
    "\n",
    "To measure this, we build two frequency distributions, collecting the token counts for the types of each sub-corpus. Then we calculate the difference D, substracting the counts in one sub-corpus from the counts in the other one. Then we normalize, dividing the difference by the total counts in the entire corpus. Thus: `D' = (D1-D2)/(D1+D2)`. The resulting variable D' will range from -1 to 1. If a term is characteristic of a sub-corpus, it will be found in the tails of the variable's distribution.\n",
    "\n",
    "We will try this with two sub-categories of the Brown corpus."
   ]
  },
  {
   "cell_type": "code",
   "execution_count": 217,
   "metadata": {},
   "outputs": [],
   "source": [
    "from nltk.corpus import brown"
   ]
  },
  {
   "cell_type": "code",
   "execution_count": 240,
   "metadata": {},
   "outputs": [],
   "source": [
    "fd_news = FreqDist(brown.words(categories=['news','religion','editorial','reviews']))"
   ]
  },
  {
   "cell_type": "code",
   "execution_count": 241,
   "metadata": {},
   "outputs": [],
   "source": [
    "fd_fict = FreqDist(brown.words(categories=['fiction','mystery','adventure']))"
   ]
  },
  {
   "cell_type": "code",
   "execution_count": 267,
   "metadata": {},
   "outputs": [
    {
     "name": "stdout",
     "output_type": "stream",
     "text": [
      "242261 194999\n"
     ]
    }
   ],
   "source": [
    "print(len(brown.words(categories=['news','religion','editorial','reviews'])),\n",
    "      len(brown.words(categories=['fiction','mystery','adventure'])))"
   ]
  },
  {
   "cell_type": "code",
   "execution_count": 242,
   "metadata": {},
   "outputs": [],
   "source": [
    "vocabulary = set(brown.words(categories=['news', 'religion','editorial','reviews',\n",
    "                                         'fiction','mystery','adventure']))"
   ]
  },
  {
   "cell_type": "code",
   "execution_count": 243,
   "metadata": {},
   "outputs": [],
   "source": [
    "fd_delta = {}"
   ]
  },
  {
   "cell_type": "code",
   "execution_count": 244,
   "metadata": {},
   "outputs": [],
   "source": [
    "for v in vocabulary:\n",
    "    fd_delta[v] = (fd_fict[v]-fd_news[v])/(fd_fict[v]+fd_news[v])"
   ]
  },
  {
   "cell_type": "code",
   "execution_count": 246,
   "metadata": {},
   "outputs": [
    {
     "data": {
      "text/plain": [
       "0"
      ]
     },
     "execution_count": 246,
     "metadata": {},
     "output_type": "execute_result"
    }
   ],
   "source": [
    "fd_fict['behalf']"
   ]
  },
  {
   "cell_type": "code",
   "execution_count": 247,
   "metadata": {},
   "outputs": [],
   "source": [
    "data_delta = list(fd_delta.values())"
   ]
  },
  {
   "cell_type": "code",
   "execution_count": 248,
   "metadata": {},
   "outputs": [
    {
     "data": {
      "text/plain": [
       "32644"
      ]
     },
     "execution_count": 248,
     "metadata": {},
     "output_type": "execute_result"
    }
   ],
   "source": [
    "len(data_delta)"
   ]
  },
  {
   "cell_type": "code",
   "execution_count": 235,
   "metadata": {},
   "outputs": [
    {
     "data": {
      "text/plain": [
       "[-0.23076923076923078, -1.0, 0.0, -0.5, -1.0, -1.0, -1.0, -1.0, -1.0, -1.0]"
      ]
     },
     "execution_count": 235,
     "metadata": {},
     "output_type": "execute_result"
    }
   ],
   "source": [
    "data_delta[:10]"
   ]
  },
  {
   "cell_type": "code",
   "execution_count": 249,
   "metadata": {},
   "outputs": [
    {
     "data": {
      "text/plain": [
       "DescribeResult(nobs=32644, minmax=(-1.0, 1.0), mean=-0.26559619875851126, variance=0.7246469064710541, skewness=0.5553089540246233, kurtosis=-1.4438157829759497)"
      ]
     },
     "execution_count": 249,
     "metadata": {},
     "output_type": "execute_result"
    }
   ],
   "source": [
    "sp.stats.describe(data_delta)"
   ]
  },
  {
   "cell_type": "code",
   "execution_count": 256,
   "metadata": {},
   "outputs": [],
   "source": [
    "%matplotlib inline"
   ]
  },
  {
   "cell_type": "code",
   "execution_count": 271,
   "metadata": {},
   "outputs": [
    {
     "data": {
      "image/png": "[encoded data removed]",
      "text/plain": [
       "<Figure size 432x288 with 1 Axes>"
      ]
     },
     "metadata": {
      "needs_background": "light"
     },
     "output_type": "display_data"
    }
   ],
   "source": [
    "num_bins = 11\n",
    "n, bins, patches = plt.hist(data_delta, num_bins, facecolor='blue', alpha=0.5)\n",
    "plt.show()"
   ]
  },
  {
   "cell_type": "markdown",
   "metadata": {},
   "source": [
    "The result is a strangely \"W-shaped\" distribution. Clearly the ends are words that occur only in one of the sub-corpora but not in the other. These are likely low-frequency words. What would happen if we restrict the investigation to high-frequency words?"
   ]
  },
  {
   "cell_type": "code",
   "execution_count": 264,
   "metadata": {},
   "outputs": [],
   "source": [
    "fd_delta_h = {}\n",
    "for v in vocabulary:\n",
    "    cnt = fd_fict[v]+fd_news[v]\n",
    "    if cnt > 5:\n",
    "        fd_delta_h[v] = (fd_fict[v]-fd_news[v])/cnt"
   ]
  },
  {
   "cell_type": "code",
   "execution_count": 265,
   "metadata": {},
   "outputs": [],
   "source": [
    "data_delta_h = list(fd_delta_h.values())"
   ]
  },
  {
   "cell_type": "code",
   "execution_count": 273,
   "metadata": {},
   "outputs": [
    {
     "data": {
      "image/png": "[encoded data removed]",
      "text/plain": [
       "<Figure size 432x288 with 1 Axes>"
      ]
     },
     "metadata": {
      "needs_background": "light"
     },
     "output_type": "display_data"
    }
   ],
   "source": [
    "num_bins = 15\n",
    "n, bins, patches = plt.hist(data_delta_h, num_bins, facecolor='blue', alpha=0.5)\n",
    "plt.show()"
   ]
  },
  {
   "cell_type": "code",
   "execution_count": null,
   "metadata": {},
   "outputs": [],
   "source": []
  }
 ],
 "metadata": {
  "kernelspec": {
   "display_name": "Python 3",
   "language": "python",
   "name": "python3"
  },
  "language_info": {
   "codemirror_mode": {
    "name": "ipython",
    "version": 3
   },
   "file_extension": ".py",
   "mimetype": "text/x-python",
   "name": "python",
   "nbconvert_exporter": "python",
   "pygments_lexer": "ipython3",
   "version": "3.8.3"
  }
 },
 "nbformat": 4,
 "nbformat_minor": 2
}
