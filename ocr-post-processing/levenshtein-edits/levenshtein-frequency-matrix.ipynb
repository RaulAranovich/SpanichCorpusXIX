{
 "cells": [
  {
   "cell_type": "markdown",
   "metadata": {},
   "source": [
    "### Purpose of this script"
   ]
  },
  {
   "cell_type": "markdown",
   "metadata": {},
   "source": [
    "Create frequency matrices of insertions, deletions, and substitutions in hand-aligned OCRed text"
   ]
  },
  {
   "cell_type": "markdown",
   "metadata": {},
   "source": [
    "## CODE"
   ]
  },
  {
   "cell_type": "code",
   "execution_count": 1,
   "metadata": {},
   "outputs": [],
   "source": [
    "import numpy as np\n",
    "import pandas as pd\n",
    "import Levenshtein as lv\n",
    "import io, os, re, sys"
   ]
  },
  {
   "cell_type": "code",
   "execution_count": 2,
   "metadata": {},
   "outputs": [
    {
     "name": "stdout",
     "output_type": "stream",
     "text": [
      "dict_items([('y', 'y'), ('anestro', 'nuestro'), ('objeto', 'objeto'), ('al', 'al'), ('redactar', 'redactar'), ('este', 'este'), ('periódico', 'frances'), (',', ','), ('has', 'las'), ('doctrinas', 'doctrinas'), ('subyersivas', 'subversivas'), ('del', 'del'), ('órden', 'órden'), ('Hestea', 'nuestra'), ('garantia', 'garantía'), ('la', 'la'), ('Constitucion', 'Constitucion'), ('irrelijiosas', 'irrelijiosas'), ('son', 'son'), ('el', 'el'), ('primer', 'primer'), ('mal', 'mal'), ('social', 'social'), ('ellas', 'ellas'), ('se', 'se'), ('proclaman', 'proclaman'), ('propagan', 'propagan'), ('por0', 'por'), ('tido', 'partido'), ('que', 'que'), ('desgraciadamente', 'desgraciadamente'), ('para', 'para'), ('nosotros', 'nosotros'), ('tomó', 'tomó'), ('wr', 'una'), ('posicion', 'posicion'), ('ventaja', 'ventajosa'), ('muestra', 'nuestra'), ('sociedad', 'sociedad'), ('desde', 'desde'), ('dias', 'dias'), ('de', 'de'), ('independencia', 'independencia'), ('en', 'en'), ('segunda', 'segunda'), ('épode', 'época'), ('da', 'la'), ('libertad', 'libertad'), ('granadina', 'granadina'), (';', ';'), ('entonces', 'entonces'), ('no', 'no'), ('lu', 'la'), ('cesado', 'cesado'), ('teabrajar', 'trabajar'), ('á', 'á'), ('fin', 'fin'), ('libertimaje', 'libertinaje'), ('los', 'los'), ('pueblos', 'pueblos'), ('cristianos', 'cristianos'), ('cn', 'en'), ('ateos', 'ateos'), ('.', '.'), ('Este', 'Este'), ('puatido', 'partido'), ('temiz', 'tenaz'), ('rebelde', 'rebelde'), ('partido', 'partido'), ('imnoral', 'inmoral'), ('ha', 'ha'), ('iralrajado', 'irabajado'), ('unas', 'unas'), ('veces', 'en'), ('cara', 'cara'), ('descuebievtic', 'descubierta'), ('por', 'por'), ('medio', 'medio'), ('poder', 'poder'), ('otras', 'otras'), ('vias', 'vias'), ('subterranvas', 'subterraneas'), ('Su', 'Su'), ('divisa', 'divisa'), ('aparente', 'aparente'), ('sido', 'sido'), ('es', 'es'), ('adera', 'bandera'), ('democracia', 'democracia'), ('sus', 'sus'), ('enidados', 'cuidados'), ('pueblo', 'pueblo'), ('porque', 'porque'), ('asi', 'asi'), ('conviene', 'conviene'), ('4', 'á'), ('tudo', 'tudo'), ('malvado', 'malvado'), ('huecer', 'hacer'), ('triunfar', 'triunfar'), ('inmorales', 'inmorales'), ('principios', 'principios'), ('entusi', 'entusiasta'), ('aquellos', 'aquellos'), ('bienes', 'bienes'), ('Pero', 'Pero'), ('em', 'en'), ('tealidad', 'realidad'), ('todos', 'todos'), ('esos', 'esos'), ('bellos', 'bellos'), ('nombres', 'nombres'), ('otra', 'otra'), ('cosa', 'cosa'), ('con', 'con'), ('hombres', 'hombres'), ('perversos', 'perversos'), ('cuemigos', 'enemigos'), ('doettina', 'doctrina'), ('imponga', 'imponga'), ('un', 'un'), ('freno', 'freno'), ('las', 'las'), ('pasiones', 'pasiones'), ('enbren', 'cubren'), ('horribles', 'horribles'), ('ficciones', 'facciones'), ('su', 'su'), ('semblunte', 'semblante'), ('stos', 'Estos'), ('fariscos', 'fariseos'), ('han', 'han'), ('conseguido', 'conseguido'), ('mas', 'mas'), ('Ó', 'ó'), ('menos', 'menos'), ('cesito', 'ecsito'), ('segun', 'el'), ('acer', 'hacer'), ('progresos', 'progresos'), ('si', 'si'), ('detestable', 'detestable'), ('obra', 'obra'), ('Hoi', 'Hoi'), ('yo', 'yo'), ('eso', 'eso'), ('insolencia', 'insolencia'), ('mayor', 'mayor'), ('aun.que', 'aunque'), ('caregen', 'carecen'), ('intelijeneia', 'intelijencia'), ('esto', 'esto'), ('le', 'le'), ('elocuencia', 'elocuencia'), ('lójica', 'lójica'), ('cimitarra', 'cimitarra'), ('todo', 'todo'), ('visto', 'visto'), ('partes', 'partes'), ('estic', 'esta'), ('entre', 'entre'), ('granadinos', 'granadinos'), ('10', 'no'), ('mui', 'mui'), ('terríble', 'terrible'), ('muestras', 'nuestras'), ('an', 'un'), ('indiferencia', 'indiferencia'), ('relijiosa', 'relijiosa'), ('y.', 'y'), ('corrupcion', 'del'), ('como', 'como'), ('cuya', 'cuya'), ('razony', 'razon'), ('cause', 'causa'), ('repúblicio', 'república'), ('halla', 'halla'), ('grande', 'grande'), ('impotencia', 'impotencia'), ('tienen', 'tienen'), ('rar', 'un'), ('principio', 'principio'), ('comun', 'comun'), ('cual', 'cual'), ('puedan', 'puedan'), ('entenderses', 'entenderse'), ('una', 'una'), ('estrechamente', 'estrechamente'), ('hai', 'hai'), ('sino', 'sino'), ('políticos', 'políticos'), ('están', 'están'), ('alcance', 'alcance'), ('ignorantes', 'ignorantes'), ('entienden', 'entienden'), ('manera', 'manera'), ('qu', 'quiere'), ('entender', 'entender'), ('divididos', 'divididos'), ('prestando', 'prestando'), ('apoyo', 'apoyo'), ('A', 'á'), ('bien', 'bien'), ('No', 'No'), ('nuestras', 'nuestras'), ('ma', 'masas'), ('individuos', 'individuos'), ('extólico', 'católico'), ('determinado', 'determinado'), ('respetan', 'respetan'), ('sobre', 'sobre'), ('Esta', 'Esta'), ('fé', 'fé'), ('favorezca', 'será'), ('será', 'será'), ('poderoso', ','), ('contará', 'con'), ('esas', 'masas'), ('masas', ','), ('sea', 'hostil'), ('hostil', 'tendrá'), ('tendrá', 'al'), ('sucumbir', '.'), ('El', 'El'), ('cátólico', 'segun'), ('sentimiento', 'de'), ('colaborador', 'del'), ('frances', 'titulado'), ('titulado', ','), ('llamado', 'á'), ('salvar', 'la'), ('francesa', 'de'), ('catástrofe', 'con'), ('amenazan', 'las'), ('demagójicas', 'de'), ('En', 'En'), ('Francia', 'Francia'), ('pues', 'pues'), ('proclama', 'el'), ('católico', 'católico'), ('salvador', 'del'), (':', '.'), ('mil', 'veces'), ('peor', 'estado'), ('estado', 'estado'), ('causa', 'de'), ('rojo', 'rojo'), ('cuenta', 'hombres'), ('intellijencia', '.'), ('¿', '¿'), ('Como', 'Como'), ('lo', 'lo'), ('hemos', 'de'), ('proclamar', 'proclamar'), ('altamente', ','), ('cómo', 'no'), ('hacer', 'nuestro'), ('nuestro', 'remedio'), ('remedio', ','), ('cuando', 'cuando'), ('él', 'él'), ('vínculo', 'co'), ('mun', 'comun'), ('nuestros', 'nuestros'), ('rojos', 'rojos'), ('tan', 'tan'), ('malos', 'malos'), ('són', 'són'), ('capaces', 'capaces'), ('ellos', 'ellos'), ('?', '?'), ('Debemos', 'Debemos'), ('manifestar', 'manifestar'), (\"'ALAYA\", 'ATALAYA'), ('escricialmente', 'esencialmente'), ('tanto', 'tanto'), ('transijirá', 'transijirá'), ('alguna', 'alguna'), ('ue', 'que'), ('bajo', 'bajo'), ('cualquier', 'cualquier'), ('pretesto', 'pretesto'), ('pretendan', 'pretendan'), ('des»vivtuar', 'desvirtuar'), ('Manilestumnos', 'Manifestamos'), ('almente', 'igualmente'), ('somos', 'somos'), ('liberales', 'liberales'), ('verdaderos', 'verdaderos'), ('orden', 'orden'), ('uo', 'no'), ('consiguiente', 'consiguiente'), ('esfuerzos', 'esfuerzos'), ('favor', 'favor'), ('inertad', 'libertad'), ('siempre', 'siempre'), ('serán', 'serán'), ('dirijidos', 'dirijidos'), ('arreglados', 'arreglados'), ('moral', 'moral'), ('cristiana', 'cristiana'), ('fuente', 'fuente'), ('verdadera', 'verdadera'), ('ella', 'ella'), ('dió', 'dió'), ('vida', 'vida'), ('dol', 'del'), ('mundo', 'mundo'), ('entero', 'entero'), ('yacia', 'yacia'), ('esclavitud', 'esclavitud'), ('tinicblas', 'tinieblas'), ('Mus', 'Mas'), ('erca', 'crea'), ('debamos', 'debamos'), ('disimular', 'disimular'), ('ó', 'ó'), ('consentir', 'consentir'), ('acrediten', 'acrediten'), ('Nada', 'Nada'), ('caridad', 'caridad'), ('quiere', 'quiere'), ('virtud', 'virtud'), ('sacrifique', 'sacrifique'), ('respeto', 'respeto'), ('Esto', 'Esto'), ('seria', 'seria'), ('ocultar', 'ocultar'), ('ayudar', 'ayudar'), ('61', 'él'), ('precipicio', 'precipicio'), ('preparan', 'preparan'), ('buenos', 'buenos'), ('Por', 'Por'), ('contrario', 'contrario'), ('doctrina', 'doctrina'), ('evanjélica', 'evanjélica'), ('or', 'ordena'), ('predique', 'predique'), ('clame', 'clame'), ('levante', 'levante'), ('voz', 'voz'), ('contra', 'contra'), ('enemigos', 'enemigos'), ('verdad', 'verdad'), ('les', 'les'), ('haga', 'haga'), ('conocer', 'conocer'), ('tales', 'tales'), ('cuales', 'cuales'), ('“', '“'), ('dice', 'dice'), ('Escritura', 'Escritura'), ('tener', 'tener'), ('persona', 'persona'), ('impio', 'impio'), ('desviarte', 'desviarte'), ('juicio', 'juicio'), ('”', '”'), ('(', 'é'), ('1', 'la'), (')', ')'), ('advertir', 'advertir'), ('último', 'último'), ('temert:mos', 'temerémos'), ('decie', 'decir'), ('mandatarios', 'mandatarios'), ('públicos', 'públicos'), ('toda', 'toda'), ('firmeza', 'firmeza'), ('encrjia', 'enerjia'), ('libres', 'libres'), ('actos', 'actos'), ('aparten', 'aparten'), ('carril', 'carril'), ('señalado', 'señalado'), ('lei', 'lei'), ('otro', 'otro'), ('cl', 'el'), ('Y', 'Y'), ('debe', 'debe'), ('contar', 'contar'), ('tarea', 'tarea'), ('escritores', 'escritores'), ('miembros', 'miembros'), ('gran', 'gran'), ('conservador', 'conservador'), ('llevamos', 'llevamos'), ('mira', 'mira'), ('contribuir', 'contribuir'), ('parte', 'parte'), ('posible', 'posible'), ('at', 'al'), ('triunfo', 'triunfo'), ('Relijion', 'Relijion'), ('so=bre', 'sobre'), ('impiedad', 'impiedad'), ('sociales', 'sociales'), ('márquicos', 'demagójicos'), ('demagójico', 'demagójico'), ('Ja', 'la'), ('civilizacion', 'civilizacion'), ('iste', 'Este'), ('combate', 'combate'), ('vamos', 'vamos'), ('entrar', 'entrar'), ('lado', 'lado'), ('veteranos', 'veteranos'), ('oposicionistas', 'oposicionistas'), ('Nuestros', 'Nuestros'), ('demagogos', 'demagogos'), ('Nuestro', 'Nuestro'), ('batallon', 'batallon'), ('La', 'la'), ('Civilización', 'Civilizacion'), ('Dia', 'Dia'), ('Nuestra', 'Nuestra'), ('espada', 'espada'), ('prensa', 'prensa'), ('ejida', 'ejida'), ('nuestra', 'nuestra'), ('Constantino', 'Constantino'), ('Para', 'Para'), ('qué', 'qué'), ('Concluimos', 'Concluimos'), ('prospecto', 'prospecto'), ('invitando', 'invitando'), ('ciudadanos', 'ciudadanos'), ('cooperar', 'cooperar'), ('noble', 'noble'), ('eausa', 'causa'), ('nos', 'nos'), ('proponemos', 'proponemos'), ('defender', 'defender'), ('efecto', 'efecto'), ('ofrecemos', 'ofrecemos'), ('columnas', 'columnas'), ('donde', 'donde'), ('oportunamente', 'oportunamente'), ('Jos', 'los'), ('artículos', 'artículos'), ('interes', 'interes'), ('quieran', 'quieran'), ('comunicarnos', 'comunicarnos'), ('impre.sor', 'impresor'), ('sin', 'sin'), ('tengan', 'tengan'), ('pagar', 'pagar'), ('inserción', 'insercion'), ('Huútiles', 'Inútiles'), ('serian', 'serian'), ('dos', 'los'), ('hiciesén', 'hiciesen'), ('gobernar', 'gobernar'), ('establecer', 'establecer'), ('na', 'una'), ('único', 'único'), ('ausilio', 'ausilio'), ('esterior', 'esterior'), ('pacto', 'pacto'), ('político', 'político'), ('e', 'de'), ('Imbiera', 'hubiera'), ('dispuesto', 'dispuesto'), ('hábilmente', 'hábilmente'), ('equilibrio', 'equilibrio'), ('ponderación', 'ponderación'), ('diferentes', 'diferentes'), ('poderes', 'poderes'), ('Los', 'Los'), ('individuo', 'individuo'), ('claramente', 'claramente'), ('sentados', 'sentados'), ('leyes', 'leyes'), ('das', 'las'), ('srtes', 'artes'), ('comercio', 'comercio'), ('cienei', 'ciencias'), ('incuestria', 'industria'), ('amplinmente', 'ampliamente'), ('favorecidas', 'favorecidas'), ('110', 'no'), ('sociedades', 'sociedades'), ('estas', 'estas'), ('necesitan', 'necesitan'), ('olfa', 'ella'), ('está', 'está'), ('fuulamento', 'fundamento'), ('vital', 'vital'), ('espiritral', 'espiritual'), ('os', 'es'), ('condicion', 'condicion'), ('esencial', 'esencial'), ('todas', 'todas'), ('temporales', 'temporales'), ('Doctrina', 'Doctrina'), ('dogma', 'dogma'), ('hi', 'la'), ('esenciol', 'esencial'), ('condición', 'condicion'), ('De', 'De'), ('modo', 'modo'), ('podemos', 'podemos'), ('afirmar', 'afirmar'), ('ostenta', 'ostenta'), ('pura', 'pura'), ('seno', 'seno'), ('gobiernos', 'gobiernos'), ('republicanos', 'republicanos'), ('Á', 'á'), ('pro.porion', 'proporcion'), ('imeggidad', 'integridad'), ('Cuando', 'Cuando'), ('gobierno', 'gobierno'), ('democrático', 'democrático'), ('respeta', 'respeta'), ('acata', 'acata'), ('dogs', 'dogmas'), ('Relijión', 'Relijión'), ('hace', 'hace'), ('acreedor', 'acreedor'), ('elojios', 'elojitos'), ('más', 'mas'), ('sublimes', 'sublimes'), ('esuetitad', 'esactitud'), ('estos', 'estos'), ('depende', 'depende'), ('salvación', 'salvacion'), ('estados', 'estados'), ('vn', 'en'), ('prezano', 'pagano'), ('wo', 'no'), ('haya', 'haya'), ('fundado', 'fundado'), ('forma', 'forma'), ('dogmas', 'dogmas'), ('pero', 'pero'), ('eran', 'eran'), ('inciertos', 'inciertos'), ('cuito', 'culto'), ('Bé', 'fué'), ('vicioso', 'vicioso'), ('dde', 'de'), ('ama', 'una'), ('repugnante', 'repugnante'), ('degradación', 'degradacion'), ('tentativas', 'tentativas'), ('hicieron', 'hicieron'), ('Jejisladores', 'lejisladores'), ('filósofos', 'filósofos'), ('amtiicios', 'antiguos'), ('inventarlos', 'inventarlos'), ('desostrado', 'demostrado'), ('vi', 'ni'), ('mi', 'ni'), ('naciones', 'naciones'), ('pueden', 'pueden'), ('vivir', 'vivir'), ('conocemos', 'conocemos'), ('demócratas', 'demócratas'), ('iomorales', 'inmorales'), ('wendir', 'sacudir'), ('yugo', 'yugo'), ('reconocen', 'reconocen'), ('profesan', 'profesan'), ('tantos', 'tantos'), ('obstáculos', 'obstáculos'), ('ss', 'sus'), ('depravadas', 'depravadas'), ('intenciones', 'intenciones'), ('lújus', 'hijas'), ('espuedas', 'espurias'), ('um', 'una'), ('relajada', 'relajada'), ('Quisiorao', 'Quisieran'), ('reformar', 'reformar'), ('creeme', 'creencias'), ('mayores', 'mayores'), ('ul', 'un'), ('país', 'país'), ('cmibentemente', 'eminentemente'), ('io', 'no'), ('tiene', 'tiene'), ('hombre', 'hombre'), ('facultado', 'facultad'), ('imponer', 'imponer'), ('Sin', 'Sin'), ('discucion', 'discusion'), ('dercchos', 'derechos'), ('temes', 'tengan'), ('contrace', 'contraer'), ('puetos', 'pactos'), ('0', 'ó'), ('convenios', 'convenios'), ('puede', 'puede'), ('formar', 'formar'), ('baja', 'bajo'), ('mico', 'único'), ('imperio', 'imperio'), ('dle', 'de'), ('netos', 'actos'), ('dejislativos', 'lejislativos'), ('sí', 'sí'), ('solos', 'solos'), ('sun', 'son'), ('impotente', 'impotente'), ('barrera', 'barrera'), ('paa', 'para'), ('contener', 'contener'), ('omal', 'mal'), ('ineaqaz', 'incapaz'), ('mejorar', 'mejorar'), ('multitud', 'multitud'), ('así', 'así'), ('so', 'su'), ('elo', 'el'), ('porta', 'porta'), ('1849', '1849'), ('arios', 'años'), ('hee', 'hace'), ('esta', 'esta'), ('vez', 'vez'), ('poetico', 'poeta'), ('tenía', 'tenia'), ('razon', 'razon'), ('samsimonianos', 'sansimonianes'), ('habian', 'habian'), ('eonecbido', 'concebido'), ('proyecto', 'proyecto'), ('reorganizar', 'reorganizar'), ('Enropa', 'Europa'), ('industria', 'industria'), ('mejora', 'mejora'), ('material', 'material'), ('clases', 'clases'), ('pobres', 'pobres'), ('despues', 'despues'), ('escandalosas', 'escandalosas'), ('aquella', 'aquella'), ('socia', 'secta'), ('desaparecido', 'desaparecido'), ('partidarios', 'partidarios'), ('Powrtivr', 'Fourrier'), ('quisieron', 'quisieron'), ('Gambieo', 'tambien'), ('producir', 'producir'), ('sistema', 'sistema'), ('combinar', 'combinar'), ('jucion', 'asociacion'), ('atraccion', 'atraccion'), ('imiverso', 'universo'), ('familias', 'familias'), ('agrícolas', 'agrícolas'), ('€', 'é'), ('industriales', 'industriales'), ('divinizar', 'divinizar'), ('máteria', 'máteria'), ('sublevarse', 'sublevarse'), ('enemiga', 'enemiga'), ('mortal', 'mortal'), ('atracción', 'atraccion'), ('apasionada', 'apasionada'), ('lamir', 'llamar'), ('placeres', 'placeres'), ('plan', 'plan'), ('bárbaro', 'bárbaro'), ('ncolojismo', 'neolojismo'), ('quedado', 'quedado'), ('comprenderse', 'comprenderse'), ('abstractas', 'abstractas'), ('fórmulas', 'fórmulas'), ('eco', 'eco'), ('Apénas', 'Apénas'), ('pusieron', 'pusieron'), ('manos', 'manos'), ('vieron', 'vieron'), ('obligados', 'obligados'), ('ú', 'á'), ('actuales', 'actuales'), ('socialistas', 'socialistas'), ('franceses', 'franceses'), ('hun', 'han'), ('corrido', 'corrido'), ('hoi', 'hoi'), ('igual', 'igual'), ('in', 'sin'), ('ni', 'ni'), ('materiales', 'materiales'), ('!', '!'), ('Segun', 'Segun'), ('suerte', 'suerte'), ('Dios', 'Dios'), ('consiste', 'consiste'), ('pureza', 'pureza'), ('Rel', 'Relijion'), ('inquictar', 'inquietar'), ('insultos', 'insultos'), ('burlas', 'burlas'), ('sarcasmos', 'sarcasmos'), ('ridículas', 'ridículas'), ('ironías', 'ironías'), ('valen', 'valen'), ('envilecerla', 'envilecerla'), ('Consiste', 'Consiste'), ('respetar', 'respetar'), ('Iglesia', 'Iglesia'), ('columna', 'columna'), ('firmamento', 'firmamento'), ('fundada', 'fundada'), ('montañas', 'montañas'), ('Sion', 'Sion'), (\"Ix'\", 'la'), ('tampoco', 'tampoco'), (\"respetará'\", 'respetará'), ('Jesucristo', 'Jesucristo'), ('divino', 'divino'), ('Comoláte', 'Consiste'), ('guardar', 'guardar'), ('porq', 'porque'), ('semejante', 'semejante'), ('huerto', 'huerto'), ('flores', 'flores'), ('edificio', 'edificio'), ('democráticos', 'democráticos'), ('vélur', 'velar'), ('sociédades', 'sociedades'), ('inmoralicen', 'inmoralicen'), ('desvirtuen', 'desvirtuen'), ('áias', 'sistema'), ('tema', 'tema'), ('admitiendo', 'admitiendo'), ('corrompidos', 'corrompidos'), ('criminales', 'criminales'), ('corrompen', 'corrompen'), ('é', 'é'), ('inficionan', 'inficionan'), ('consocios', 'consocios'), ('consecuencias', 'consecuencias'), ('emanadas', 'emanadas'), ('esivs', 'estos'), ('corruptores', 'corruptores'), ('vendrian', 'vendrian'), ('ser', 'ser'), ('jérmen', 'jérmen'), ('discordias', 'discordias'), ('Las', 'Las'), ('secretas', 'secretas'), ('destruccion', 'destruccion'), ('deberia', 'deberia'), ('llamar', 'llamar'), ('atencion', 'atencion'), ('autoridades', 'autoridades'), ('deber', 'deber'), ('rigurosa', 'rigurosa'), ('justicia', 'justicia'), ('cuanto', 'cuanto'), ('minan', 'minan'), ('juran', 'juran'), ('ruina', 'ruina'), ('deshonran', 'deshonran'), ('É', 'é'), ('impiden', 'impiden'), ('progreso', 'progreso'), ('emanacion', 'emanacion'), ('grandes', 'grandes'), ('males', 'males'), ('malignas', 'malignas'), ('producen', 'producen'), ('ha=blaremos', 'hablaremos'), ('Necesita', 'Necesita'), ('revele', 'revele'), ('sancione', 'sancione'), ('derechos', 'derechos'), ('respectivos', 'respectivos'), ('sujete', 'sujete'), ('haciéndoles', 'haciéndoles'), ('oír', 'oír'), ('lenguaje', 'lenguaje'), ('patria', 'patria'), ('celestial', 'celestial'), ('doude', 'donde'), ('tipo', 'tipo'), ('human', 'humanas'), ('Cuanto', 'Cuanto'), ('penetren', 'penetren'), ('divina', 'divina'), ('unidas', 'unidas'), ('unidad', 'unidad'), ('perfecta', 'perfecta'), ('imico', 'único'), ('vinculo', 'vínculo'), ('cosas', 'cosas'), ('misma', 'misma'), ('proporcion', 'proporcion'), ('socinble', 'sociable'), ('dichosos', 'dichosos'), ('Pal', 'Tal'), ('Nueva', 'Nueva'), ('Granada', 'Granada'), ('amar', 'amar'), ('vecibie', 'recibir'), ('descubre', 'descubre'), ('hombro', 'hombre'), ('demócrata', 'demócrata'), ('corresponde', 'corresponde'), ('muruvillosamente', 'maravillosamente'), ('necesidades', 'necesidades'), ('estrema', 'estrema'), ('entendimiento', 'entendimiento'), ('humano', 'humano'), ('atribuirla', 'atribuirla'), ('log', 'los'), ('scubrimientos', 'descubrimientos'), ('intelijencia', 'intelijencia'), ('sistemas', 'sistemas'), ('ménos', 'ménos'), ('acreditados', 'acreditados'), ('ideul', 'ideal'), ('obr', 'obra'), ('do', 'de'), ('Es', 'Es'), ('llevados', 'elevados'), ('fines', 'fines'), ('Considerados', 'Considerados'), ('orijen', 'orijen'), ('decia', 'decia'), ('mucho', 'mucho'), ('glorias', 'glorias'), ('conducen', 'conducen'), ('esa', 'esa'), ('larga', 'larga'), ('serio', 'serie'), ('muguílicas', 'magníficas'), ('revelaciones', 'revelaciones'), ('Espíritu', 'Espíritu'), ('Santo', 'Santo'), ('inspira', 'inspira'), ('hom=bre', 'hombre'), ('quien', 'quien'), ('ilustran', 'ilustran'), ('Considerudos', 'Considerados'), ('objetos', 'objetos'), ('autoridwl', 'autoridad'), ('lamos', 'hallamos'), ('espíritu', 'espíritu'), ('dé', 'de'), ('movilidad', 'movilidad'), ('inseparable', 'inseparable'), ('proyectos', 'proyectos'), ('humanos', 'humanos'), ('pruebas', 'pruebas'), ('presentan', 'presentan'), ('apoyados', 'apoyados'), ('equivoca', 'equívoca'), ('reputación', 'reputacion'), ('novador', 'novador'), ('cualquicra', 'cualquiera'), (\"'Ó\", 'ó'), ('as', 'mas'), ('deslumbradores', 'deslumbradores'), ('ho=os', 'hechos'), ('carácter', 'carácter'), ('sucesion', 'sucesion'), ('interrumpida', 'interrumpida'), ('testimonios', 'testimonios'), ('fidedignos', 'fidedignos'), ('recoje', 'recoje'), ('tuprecia', 'aprecia'), ('wutoridad', 'autoridad'), ('viviente', 'viviente'), ('infalible', 'infalible'), ('Considerando', 'Considerando'), ('mismos', 'mismos'), ('hallamos', 'hallamos'), ('solas', 'solas'), ('nociones', 'nociones'), ('dignas', 'dignas'), ('grandeza', 'grandeza'), ('providencia', 'providencia'), ('bon=dad', 'bondad'), ('únicas', 'únicas'), ('esplican', 'esplican'), ('orgullo', 'orgullo'), ('rehabilitacion', 'rehabilitacion'), ('earidad', 'caridad'), ('podrán', 'podrán'), ('inventar', 'inventar'), ('observar', 'observar'), ('opiniones', 'opiniones'), ('filosóficas', 'filosóficas'), ('verdade', 'verdaderas'), ('quedar', 'quedar'), ('%', 'á'), ('eleccion', 'eleccion'), ('contradecié', 'contradecir'), ('quicren', 'quieren'), ('dentro', 'dentro'), ('límites', 'límites'), ('seu', 'sea'), ('buena', 'buena'), ('verdadgra', 'verdadera'), ('fundarse', 'fundarse'), ('firme', 'firme'), ('fuerte', 'fuerte'), ('base', 'base'), ('desvia', 'desvia'), ('desprecia', 'desprecia'), ('reglas', 'reglas'), ('infalibles', 'infalibles'), ('obrar', 'obrar'), ('falsa', 'falsa'), ('sumamente', 'sumamente'), ('perjudicial', 'perjudicial'), ('Estado', 'Estado'), ('Lo', 'Lo'), (\"mas'\", 'mas'), ('adelante', 'adelante'), ('LOS', 'LOS'), ('LIBROS', 'LIBROS'), ('SANTOS', 'SANTOS'), ('Voi', 'Voi'), ('hablar', 'hablar'), ('tratado', 'tratado'), ('uucho', 'mucho'), ('tiempo', 'tiempo'), ('atrás', 'atrás'), ('grandos', 'grandos'), ('injemios', 'injentos'), ('hecho', 'hecho'), ('oie', 'oir'), ('elocuente', 'elocuente'), ('tribuna', 'tribuna'), ('grinde', 'grande'), ('sublime', 'sublime'), ('elojio', 'elojio'), ('mirado', 'mirado'), ('unos', 'unos'), ('com', 'con'), ('desprecio', 'desprecio'), ('otros', 'otros'), ('voi', 'voi'), ('libro', 'libro'), ('nn', 'un'), ('pensamiento', 'pensamiento'), ('hau', 'ha'), ('podido', 'podido'), ('bello', 'bello'), ('maguílico', 'magnífico'), ('abraza', 'abraza'), ('mmestro', 'nuestro'), ('oríjen', 'oríjen'), ('destinos', 'destinos'), ('tómino', 'término'), ('huestras', 'nuestras'), ('aspiraciones', 'aspiraciones'), ('fítulos', 'títulos'), ('Sagrada', 'Sagrada'), ('ste', 'Este'), ('nombre', 'nombre'), ('sé', 'sé'), ('encantador', 'encantador'), ('atera', 'aterra'), ('gue', 'que'), ('confunde', 'confunde'), ('enemigo', 'enemigo'), ('Inmanidad', 'humanidad'), ('algo', 'algo'), ('con=suela', 'consuela'), ('alias', 'almas'), ('gamas', 'sanas'), ('rectas', 'rectas'), ('sensibles', 'sensibles'), ('alienta', 'alienta'), ('coran', 'corazon'), ('justo', 'justo'), ('cubré', 'cubre'), ('palidez', 'palidez'), ('frente', 'frente'), ('impáo', 'impío'), ('colorea', 'colorea'), ('rostro', 'rostro'), ('victuoso', 'virtuoso'), ('haluga', 'halaga'), ('Lutasia', 'fantasia'), ('poeta', 'poeta'), ('atras', 'atrae'), ('utencion', 'atencion'), ('filosofo', 'filósofo'), ('há', 'hai'), ('dudado', 'dudarlo'), ('santo', 'santo'), ('ejerce', 'ejerce'), ('influjo', 'influjo'), ('májico', 'májico'), ('misterioso', 'misterioso'), ('revela', 'revela'), ('sn', 'su'), ('sa', 'su'), ('comtenido', 'contenido'), ('Sic', 'Sí:'), ('sagrados', 'sagrados'), ('códigos', 'códigos'), ('utiaido', 'atraido'), ('veneración', 'veneracion'), ('pensadores', 'pensadores'), ('sectas', 'sectas'), ('relijiosas', 'relijiosas'), ('dividió', 'dividió'), ('aquel', 'aquel'), ('grau', 'gran'), ('predicador', 'predicador'), ('dieziocho', 'dieziocho'), ('siglos', 'siglos'), ('ho', 'la'), ('Judea', 'Judea'), ('tommeñínidose', 'anunciándose'), ('Injo', 'hijo'), ('rejenerator', 'rejenerador'), ('especio', 'especie'), ('humana', 'humana'), ('degrad', 'degradada'), ('tiempos', 'tiempos'), ('exiviado', 'enviado'), ('hombros', 'hombres'), ('tinieblas', 'tinieblas'), ('luz', 'luz'), ('hunentable', 'lamentable'), ('biste', 'triste'), ('foco', 'foco'), ('ignorancia', 'ignorancia'), ('feliz', 'feliz'), ('epetecido', 'apetecido'), ('centro', 'centro'), ('eiviliz', 'civilizacion'), ('ln', 'En'), ('observemos', 'observemos'), ('atentamente', 'atentamente'), ('eon', 'con'), ('libros', 'libros'), ('protestante', 'protestante'), ('sdaz', 'audaz'), ('diversas', 'diversas'), ('epocas', 'epocas'), ('levantado', 'levantado'), ('soburbía', 'soberbia'), ('Vatienno', 'Vaticano'), ('querido', 'querido'), ('conculear', 'concluear'), ('ordenanzas', 'ordenanzas'), ('dado', 'dado'), ('gobiermo', 'gobierno'), ('¡', '¡'), ('escueba', 'escucha'), ('sentencias', 'sentencias'), ('leen', 'leen'), ('páginas', 'pájinas'), ('enón', 'cuán'), ('infatigable', 'infatigable'), ('recomendar', 'recomendar'), ('orájen', 'oríjen'), ('creencia', 'creencia'), ('prue', 'prueba'), ('desgraciado', 'desgraciado'), ('lectura', 'lectura'), ('sencilla', 'sencilla'), ('seguir', 'seguir'), ('ost', 'este'), ('tambien', 'tambien'), ('sentido', 'sentido'), ('embaraza', 'embaraza'), ('comprende', 'comprende'), ('comprender', 'comprender'), ('secta', 'secta'), ('avonada', 'anonada'), ('tmsensiblemente', 'insensiblemente'), ('vá', 'vá'), ('desmoronando', 'desmoronando'), ('Cundamentos', 'fundamento'), ('EL', 'El'), ('griego', 'griego'), ('separado', 'separado'), ('catedra', 'cátedra'), ('San', 'San'), ('extrae', 'extrae'), ('casi', 'casi'), ('perfectas', 'perfecta'), ('lc', 'le'), ('Falta', 'falta'), ('falta', 'falta'), ('error', 'error'), ('cegado', 'cegado'), ('ver', 'ver'), ('terminantes', 'terminantes'), ('palabras', 'palabras'), ('mismo', 'mismo'), ('entiende', 'entiende'), ('mua', 'una'), ('ilusion', 'ilusion'), ('Sola', 'Solo'), ('respetundo', 'respetando'), ('Biblia', 'Biblia'), ('toma', 'toma'), ('ese', 'ese'), ('ve', 've'), ('historia', 'historia'), ('habita', 'habita'), ('judio', 'judio'), ('profcias', 'profecias'), ('depósito', 'depósito'), ('rubia', 'habia'), ('confiuulo', 'confiado'), ('Salvador', 'Salvador'), ('recojidas', 'recojidas'), ('apóstoles', 'apóstoles'), ('profética', 'profética'), ('pi', 'por'), ('establecid', 'establecida'), ('Solo', 'Solo'), ('aquí', 'aquí'), ('maravilloso', 'maravilloso'), ('incluyendo', 'incluyendo'), ('comienza', 'comienza'), ('acaba', 'acaba'), ('eternidad', 'eternidad'), ('respetado', 'respetado'), ('tantas', 'tantas'), ('dulces', 'dulces'), ('pensamientos', 'pensamientos'), ('derramar', 'derramar'), ('lágrimas', 'lágrimas'), ('encarnizado', 'encarnizado'), ('permanecido', 'permanecido'), ('íntegro', 'íntegro'), ('trasformaciones', 'transformaciones'), ('obrado', 'obrado'), ('podrá', 'podrá'), ('decirse', 'decirse'), ('enteramente', 'enteramente'), ('asegurarse', 'asegurarse'), ('especial', 'especial'), ('conservado', 'conservado'), ('entró', 'entró'), ('suprema', 'suprema'), ('sabiduría', 'sabiduría'), ('tuviera', 'tuviera'), ('anales', 'anales'), ('cristianismo', 'cristianismo'), ('títulos', 'títulos'), ('siendo', 'siendo'), ('auténticos', 'auténticos'), ('Íntegros', 'íntegros'), ('vurdladoros', 'verdaderos'), ('santos', 'santos'), ('aseverárse', 'aseverarse'), ('era', 'era'), ('necesario', 'necesario'), ('inmortal', 'inmortal'), ('tuvicra', 'tuviera'), ('monumentos', 'momentos'), ('engaño', 'engaño'), ('opusiera', 'opusiera'), ('innumerables', 'innumerables'), ('llenos', 'llenos'), ('hay', 'hay'), ('dudarlo', 'dudarlo'), ('conceder', 'conceder'), ('Dospues', 'Despues'), ('ataques', 'ataques'), ('hizo', 'hizo'), ('escuela', 'escuela'), ('volteriana', 'volteriana'), ('siglo', 'siglo'), ('dicz', 'diez'), ('ocho', 'ocho'), ('vino', 'vino'), ('a', 'a'), ('estrellarse', 'estrellarse')])\n"
     ]
    }
   ],
   "source": [
    "## import txt data into dictionary\n",
    "path = \"C:/Users/nicol/OneDrive/Documents/Education/Graduate - UCD/2020 Summer/GSR Spanish Corpus/\"\n",
    "\n",
    "ocr_dict = {}\n",
    "with io.open((path + '/data/ground-truth-sets/levenshtein-training-data-cleaned.txt'), encoding = 'utf-8') as f:\n",
    "    for line in f:\n",
    "        (key, val) = line.split()\n",
    "        ocr_dict[key] = val\n",
    "\n",
    "## check dict format\n",
    "print(ocr_dict.items())"
   ]
  },
  {
   "cell_type": "code",
   "execution_count": 4,
   "metadata": {},
   "outputs": [
    {
     "name": "stdout",
     "output_type": "stream",
     "text": [
      "['!', '%', \"'\", '(', ')', ',', '.', '0', '1', '4', '6', '8', '9', ':', ';', '=', '?', 'A', 'B', 'C', 'D', 'E', 'F', 'G', 'H', 'I', 'J', 'L', 'M', 'N', 'O', 'P', 'Q', 'R', 'S', 'T', 'V', 'Y', 'a', 'b', 'c', 'd', 'e', 'f', 'g', 'h', 'i', 'j', 'l', 'm', 'n', 'o', 'p', 'q', 'r', 's', 't', 'u', 'v', 'w', 'x', 'y', 'z', '¡', '»', '¿', 'Á', 'É', 'Í', 'Ó', 'á', 'é', 'í', 'ñ', 'ó', 'ú', '“', '”', '€']\n",
      "79\n",
      "{'!': 0, '%': 1, \"'\": 2, '(': 3, ')': 4, ',': 5, '.': 6, '0': 7, '1': 8, '4': 9, '6': 10, '8': 11, '9': 12, ':': 13, ';': 14, '=': 15, '?': 16, 'A': 17, 'B': 18, 'C': 19, 'D': 20, 'E': 21, 'F': 22, 'G': 23, 'H': 24, 'I': 25, 'J': 26, 'L': 27, 'M': 28, 'N': 29, 'O': 30, 'P': 31, 'Q': 32, 'R': 33, 'S': 34, 'T': 35, 'V': 36, 'Y': 37, 'a': 38, 'b': 39, 'c': 40, 'd': 41, 'e': 42, 'f': 43, 'g': 44, 'h': 45, 'i': 46, 'j': 47, 'l': 48, 'm': 49, 'n': 50, 'o': 51, 'p': 52, 'q': 53, 'r': 54, 's': 55, 't': 56, 'u': 57, 'v': 58, 'w': 59, 'x': 60, 'y': 61, 'z': 62, '¡': 63, '»': 64, '¿': 65, 'Á': 66, 'É': 67, 'Í': 68, 'Ó': 69, 'á': 70, 'é': 71, 'í': 72, 'ñ': 73, 'ó': 74, 'ú': 75, '“': 76, '”': 77, '€': 78}\n"
     ]
    }
   ],
   "source": [
    "## get number of unique characters\n",
    "def unique(list1):\n",
    "    list_set = set(list1) # get unique values from a list\n",
    "    unique_list = list(list_set) # convert set to list\n",
    "    \n",
    "    return unique_list\n",
    "\n",
    "chars = []\n",
    "with io.open((path + '/data/ground-truth-sets/levenshtein-training-data-cleaned.txt'), encoding = 'utf-8') as f:\n",
    "    for line in f:\n",
    "        pairs = line.split()\n",
    "        for word in pairs:\n",
    "            for char in word:\n",
    "                chars.append(char)\n",
    "\n",
    "unique_chars = unique(chars)\n",
    "unique_chars = sorted(unique_chars) # alphabetize char list\n",
    "print(unique_chars)\n",
    "num_char = len(unique_chars)\n",
    "print(num_char)\n",
    "\n",
    "## build character index\n",
    "char_index = {char: i for i, char in enumerate(unique_chars)}\n",
    "print(char_index)"
   ]
  },
  {
   "cell_type": "code",
   "execution_count": 5,
   "metadata": {},
   "outputs": [],
   "source": [
    "## initialize array\n",
    "sub_matrix = np.zeros((num_char, num_char))\n",
    "insert_matrix = np.zeros((1, num_char))\n",
    "delete_matrix = np.zeros((1, num_char))"
   ]
  },
  {
   "cell_type": "code",
   "execution_count": 6,
   "metadata": {},
   "outputs": [],
   "source": [
    "## get Levenshtein edits\n",
    "\n",
    "subs = 0\n",
    "inserts = 0\n",
    "deletes = 0\n",
    "\n",
    "for line in ocr_dict.items():\n",
    "    ocr = line[0]\n",
    "    corr = line[1]\n",
    "    edit = lv.editops(ocr, corr)\n",
    "    for e in edit:\n",
    "        if e[0] == 'replace': # if the edit is a substitution\n",
    "            ocr_sub = ocr[e[1]] # index char substituted in ocr string\n",
    "            corr_sub = corr[e[2]] # index char substituted in corr string\n",
    "            ocr_sub_index = char_index[ocr_sub] # index ocr char in matrix\n",
    "            corr_sub_index = char_index[corr_sub] # index corr char in matrix\n",
    "            sub_matrix[ocr_sub_index][corr_sub_index] += 1 # add 1 to freq of substitution\n",
    "            subs += 1\n",
    "        elif e[0] == 'insert':\n",
    "            corr_insert = corr[e[2]] # index char inserted in corr string\n",
    "            corr_insert_index = char_index[corr_insert] # index char in matrix\n",
    "            insert_matrix[0][corr_insert_index] += 1\n",
    "            inserts += 1\n",
    "        elif e[0] == 'delete':\n",
    "            corr_delete = ocr[e[2]] # index char originally in ocr string but deleted in corr string\n",
    "            corr_delete_index = char_index[corr_delete] # index char in matrix\n",
    "            delete_matrix[0][corr_delete_index] =+ 1\n",
    "            deletes += 1"
   ]
  },
  {
   "cell_type": "code",
   "execution_count": 7,
   "metadata": {},
   "outputs": [
    {
     "name": "stdout",
     "output_type": "stream",
     "text": [
      "777\n"
     ]
    }
   ],
   "source": [
    "## get total number of errors\n",
    "print(subs + inserts + deletes)"
   ]
  },
  {
   "cell_type": "code",
   "execution_count": 26,
   "metadata": {},
   "outputs": [
    {
     "name": "stdout",
     "output_type": "stream",
     "text": [
      "[[0. 0. 0. ... 0. 0. 0.]\n",
      " [0. 0. 0. ... 0. 0. 0.]\n",
      " [0. 0. 0. ... 0. 0. 0.]\n",
      " ...\n",
      " [0. 0. 0. ... 0. 0. 0.]\n",
      " [0. 0. 0. ... 0. 0. 0.]\n",
      " [0. 0. 0. ... 0. 0. 0.]]\n",
      "[[ 0.  0.  0.  0.  0.  0.  0.  0.  0.  0.  0.  0.  0.  0.  0.  0.  0.  1.\n",
      "   0.  0.  0.  2.  0.  0.  0.  0.  0.  0.  0.  0.  0.  0.  0.  0.  0.  0.\n",
      "   0.  0. 20.  2.  5.  5. 12.  2.  1.  4.  6.  1.  4.  3. 11.  9.  1.  1.\n",
      "   6. 12.  6.  5.  1.  0.  0.  0.  1.  0.  0.  0.  0.  0.  0.  0.  0.  1.\n",
      "   0.  0.  0.  1.  0.  0.  0.]]\n",
      "[[0. 0. 1. 0. 0. 0. 1. 1. 1. 0. 0. 0. 0. 0. 0. 1. 0. 0. 0. 0. 0. 0. 0. 0.\n",
      "  0. 1. 0. 0. 0. 0. 0. 0. 0. 0. 0. 0. 0. 0. 1. 0. 1. 1. 1. 1. 0. 0. 1. 0.\n",
      "  1. 1. 1. 1. 1. 0. 1. 1. 1. 1. 1. 0. 1. 1. 0. 0. 1. 0. 0. 0. 0. 0. 0. 0.\n",
      "  1. 0. 0. 0. 0. 0. 0.]]\n"
     ]
    }
   ],
   "source": [
    "## check success of matrices\n",
    "print(sub_matrix)\n",
    "print(insert_matrix)\n",
    "print(delete_matrix)"
   ]
  },
  {
   "cell_type": "code",
   "execution_count": 27,
   "metadata": {},
   "outputs": [],
   "source": [
    "## calculate relative frequencies\n",
    "sub_freq = sub_matrix[:]/subs\n",
    "insert_freq = insert_matrix[:]/inserts\n",
    "delete_freq = delete_matrix[:]/deletes"
   ]
  },
  {
   "cell_type": "code",
   "execution_count": 28,
   "metadata": {},
   "outputs": [],
   "source": [
    "## export data\n",
    "path = \"C:/Users/nicol/OneDrive/Documents/Education/Graduate - UCD/2020 Summer/GSR Spanish Corpus/\"\n",
    "\n",
    "sub_df = pd.DataFrame(sub_freq, index=char_index, columns=char_index)\n",
    "insert_df = pd.DataFrame(insert_freq, columns=char_index)\n",
    "delete_df = pd.DataFrame(delete_freq, columns=char_index)\n",
    "\n",
    "## dfs to .xlsx\n",
    "sub_df.to_excel((path + '/ocr-post-processing/levenshtein-edits/substitution-freq.xlsx'))\n",
    "insert_df.to_excel((path + '/ocr-post-processing/levenshtein-edits/insertion-freq.xlsx'))\n",
    "delete_df.to_excel((path + '/ocr-post-processing/levenshtein-edits/deletion-freq.xlsx'))\n",
    "\n",
    "## arrays and char_index to .npy\n",
    "np.save((path + '/ocr-post-processing/levenshtein-edits/sub-freq.npy'), sub_freq)\n",
    "np.save((path + '/ocr-post-processing/levenshtein-edits/insert-freq.npy'), insert_freq)\n",
    "np.save((path + '/ocr-post-processing/levenshtein-edits/delete-freq.npy'), delete_freq)\n",
    "np.save((path + '/ocr-post-processing/levenshtein-edits/char-index.npy'), char_index)"
   ]
  }
 ],
 "metadata": {
  "kernelspec": {
   "display_name": "Python 3",
   "language": "python",
   "name": "python3"
  },
  "language_info": {
   "codemirror_mode": {
    "name": "ipython",
    "version": 3
   },
   "file_extension": ".py",
   "mimetype": "text/x-python",
   "name": "python",
   "nbconvert_exporter": "python",
   "pygments_lexer": "ipython3",
   "version": "3.8.3"
  }
 },
 "nbformat": 4,
 "nbformat_minor": 4
}
