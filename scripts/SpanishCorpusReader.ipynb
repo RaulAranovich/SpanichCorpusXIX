{
 "cells": [
  {
   "cell_type": "markdown",
   "metadata": {},
   "source": [
    "# A corpus reader for Spanish books in Project Gutenberg"
   ]
  },
  {
   "cell_type": "markdown",
   "metadata": {},
   "source": [
    "## 1. Corpus readers in NLTK"
   ]
  },
  {
   "cell_type": "markdown",
   "metadata": {},
   "source": [
    "Corpus readers are NLTK objects that are used to access corpora (collection of texts). The _nltk.corpus_ module already includes some reader instances, which grant access to specific corpora already included in NLTK (e.g. _nltk.corpus.brown_, to access the Brown corpus). Corpus readers define standard methods to access a corpus as a single string (`.raw()`), as a list of words (`.words()`), as a list of sentences (`.sents()`), or as a list of paragraphs (`.pars()`)."
   ]
  },
  {
   "cell_type": "code",
   "execution_count": 75,
   "metadata": {},
   "outputs": [
    {
     "data": {
      "text/plain": [
       "[u'The', u'Fulton', u'County', u'Grand', u'Jury', ...]"
      ]
     },
     "execution_count": 75,
     "metadata": {},
     "output_type": "execute_result"
    }
   ],
   "source": [
    "# Accessing the Brown corpus using the `.words()` method\n",
    "import nltk\n",
    "nltk.corpus.brown.words()"
   ]
  },
  {
   "cell_type": "markdown",
   "metadata": {},
   "source": [
    "When a new corpus is created, i.e. a corpus not packaged with NLTK already, it is convenient to associate it with a new corpus reader. NLTK's _corpus_ module provides some standard corpus reader constructors (e.g. _PlaintextCorpusReader()_). To create an instance of a corpus reader, the constructor takes a root arguemnt and one or more fileids. \n",
    "\n",
    "In our case, we are interested in a corpus of late 19th. and early 20th. century Spanish language books, which are part of Project Gutenberg. The collected corpus contains 45 books, from both Peninsular and Latin American authors. It contains a mixture of fiction and non-fiction works, including novels, dramatic plays, and poetry.\n",
    "\n",
    "Project Gutenberg books include a standard preface and back-matter, in English, with information about copyright and other editorial stuff. I have removed all that information from the textx in the corpus.\n",
    "\n",
    "It is very easy to associate the corpus with one of the standard reader constructors from NLTK, to create a reader instance:"
   ]
  },
  {
   "cell_type": "code",
   "execution_count": 83,
   "metadata": {},
   "outputs": [],
   "source": [
    "# Import a corpus reader constructor from nltk.corpus\n",
    "from nltk.corpus import PlaintextCorpusReader as PTR"
   ]
  },
  {
   "cell_type": "code",
   "execution_count": 78,
   "metadata": {
    "collapsed": true
   },
   "outputs": [],
   "source": [
    "# identify the root directory for the corpus and pass it as an argument to the \n",
    "# constructor to create an instance of a corpus reader\n",
    "root = './SpGut_cp/body'\n",
    "myreader = PTR(root, '.*\\.txt')"
   ]
  },
  {
   "cell_type": "code",
   "execution_count": 82,
   "metadata": {},
   "outputs": [
    {
     "name": "stdout",
     "output_type": "stream",
     "text": [
      "\n",
      "\n",
      "  DON PEDRO DE LARA\n",
      "  DOÑA MATILDE, su hija\n",
      "  DON EDUARDO DE CONTRERAS\n",
      "  BRUNO, criado de DON PEDR\n"
     ]
    }
   ],
   "source": [
    "# get some of the initial characters from the corpus.\n",
    "print(myreader.raw()[0:100])"
   ]
  },
  {
   "cell_type": "markdown",
   "metadata": {},
   "source": [
    "One immediately apparent issue that needs to be addressed is the encoding of Spanish special characters, like accented vowels, the \"ñ\", and diacritics not found in English (like the upside-down exclamation and interrogation signs). In computer systems, each character is assigned a code. The characters used in English orthography are assigned codes 0 to 127. This encoding, known as ASCII, uses 7 bit codes. \n",
    "\n",
    "When most computers were able to handle up to 8 bits, non-ascii characters were assigned codes 128 to 255. But different computers assigned those codes to different characters. Unicode solves this by assigning a uniform numerical value (known as a code point) to each possible character of any alphabet. An **encoding**, like UTF-8, turns a code point into a sequence of bytes.\n",
    "\n",
    "in python, strings are encoded as ASCII. A unicode object is a string with the \"u\" prefix. A non-ascii character (i.e. a character whose code-point is above 127) can be denoted by the escape sequence \\x, followed by two hexadecimal digits.\n",
    "\n",
    "The files in the Gutenberg corpus are encoded as UTF-8 unicode texts. Any corpus reader that can handle unicode will threfore be able to read the special characters from the files. "
   ]
  },
  {
   "cell_type": "code",
   "execution_count": 206,
   "metadata": {},
   "outputs": [
    {
     "name": "stdout",
     "output_type": "stream",
     "text": [
      "[u'\\xbf', u'A', u'qu\\xe9', u'ese', u'rostro', u'abatido', u'y', u'melanc\\xf3lico', u'?']\n"
     ]
    }
   ],
   "source": [
    "print(myreader.sents()[10023])"
   ]
  },
  {
   "cell_type": "markdown",
   "metadata": {},
   "source": [
    "## 2. Limitations of standard corpus readers in NLTK\n",
    "A standard corpus reader seems to do a good job of splitting and tokenizing these texts. But there are areas where other particular aspects of Spanish, and the editorial conventions of Project Gutenberg, require a custom approach. First, there is the matter of numerals and abbreviations. In Spanish, numerals use \".\" for thousands and \",\" for decimals. The standard corpus reader breaks numerals at the period. _7.500_ is tokenized as three different tokens.\n",
    "\n",
    "Second, there is the matter of abbreviations. Unless a list of abbreviations is provided, the reader will break them at the period as well. So _Vd._ is tokenized as _Vd_ and _._.\n",
    "\n",
    "Third, punctuation marks need to be handled properly by the tokenizer. In Project Gutenberg, the style require a double dash \"--\" to indicate dialogs. If this mark is preceded or followed by a punctuation mark (period, interrogation sign, etc.), the tokenizer interprets that as a single token. The same happens with other expressions involving punctuation, like the ellipsis \"...\".\n",
    "\n",
    "Moreover, the faulty tokenizaiton of punctuation marks results in an incorrect splitting of the text into sentences. For instance, the tokenizer will not insert a break between the period and the dash in \".--\", and therefore will miss a sentence break there.\n",
    "\n",
    "Finally, PG uses underscores to indicate emphasis or italics in the original text (following Markdown conventions). A standard reader will not separate the underscore from the word, thus rendering \"Flor\", \"\\_Flor\\_\" \"\\_Flor\", and Flor\\_\" as four different types."
   ]
  },
  {
   "cell_type": "code",
   "execution_count": 518,
   "metadata": {},
   "outputs": [
    {
     "name": "stdout",
     "output_type": "stream",
     "text": [
      "[u'La', u'suscrici\\xf3n', u',', u'contando', u'con', u'lo', u'gastado', u'en', u'las', u'municiones', u',', u'ha', u'producido', u',', u'por', u'nuestra', u'parte', u'7', u'.', u'500', u'pesos', u'fuertes', u'.']\n"
     ]
    }
   ],
   "source": [
    "#Standard reader breaks numerals at the period\n",
    "print(myreader.sents()[4103])"
   ]
  },
  {
   "cell_type": "code",
   "execution_count": 112,
   "metadata": {},
   "outputs": [
    {
     "name": "stdout",
     "output_type": "stream",
     "text": [
      "[u'--', u'No', u',', u'se\\xf1orita', u'...--', u'murmur\\xe9', u'sonriendo', u'.--', u'A', u'las', u'veces', u'se', u'me', u'va', u'el', u'pensamiento', u'hacia', u'Villaverde', u',', u'en', u'busca', u'de', u'los', u'que', u'me', u'aman', u'....']\n"
     ]
    }
   ],
   "source": [
    "# Reader mishandles punctuation and other marks, like \"--\" or \"...\", and misses \n",
    "# sentence boundaries.\n",
    "print(myreader.sents()[10027])"
   ]
  },
  {
   "cell_type": "code",
   "execution_count": 146,
   "metadata": {},
   "outputs": [
    {
     "name": "stdout",
     "output_type": "stream",
     "text": [
      "[u'--\\xbf', u'Qu\\xe9', u'hac\\xeda', u'su', u'padre', u'de', u'Vd', u'.?']\n"
     ]
    }
   ],
   "source": [
    "#Abbreviations and punctuation marks are not handled correctly by the tokenizer\n",
    "print(myreader.sents()[25500])"
   ]
  },
  {
   "cell_type": "code",
   "execution_count": 141,
   "metadata": {},
   "outputs": [
    {
     "name": "stdout",
     "output_type": "stream",
     "text": [
      "[u'La', u'compa\\xf1\\xeda', u'de', u'Garc\\xeda', u'Delgado', u'cantaba', u'el', u'himno', u'nacional', u'y', u'representaba', u'la', u'_Flor', u'de', u'un', u'd\\xeda_', u',', u'de', u'Camprod\\xf3n', u'.']\n"
     ]
    }
   ],
   "source": [
    "#Reader mishandles underscores indicating emphasis.\n",
    "print(myreader.sents()[29300])"
   ]
  },
  {
   "cell_type": "markdown",
   "metadata": {},
   "source": [
    "## 3. A customized corpus reader for Spanish books\n",
    "\n",
    "To overcome the limitations of standard corpus readers, I have created my own reader for the Spanish books in Project Gutenberg. The `SpanishCorpusReader()` constructor object is a sub-class of `PlaintextCorpusReader()`. The heart of the new corpus reader is a block reader that reads one paragraph at a time. This takes advantage of the fact that paragraphs in Project Gutenberg books are separated by blank lines. The StreamBackedCorpusView built on this block reader will load one paragraph at a time into memory from the underlying files to operate on it. The block reader is paired up with a word tokenizer that uses regular expression matching."
   ]
  },
  {
   "cell_type": "markdown",
   "metadata": {},
   "source": [
    "Tokenization is performed by regular expression matching. \n",
    "\n",
    "+ Numerals are sequences of characters that match the regular expression `\\$*[\\d\\.]+,\\d+|\\$*[\\d\\.]*\\d`, that is, a sequence that has a digit at the end, preceded by other digits, possibly separated from the last one by a comma or by periods, and maybe preceded by the dollar sign.\n",
    "+ There are also abbreviations, which are defined so that they match a sequence of characters including a final (or sometimes a medial) period. Examples: \"Vd.\" (for _usted_), \"L.E.\". These also include the ellipsis sign \"...\".\n",
    "+ Punctuation includes the double dash \"--\" used in Project Gutenberg as an m-dash, and common Spanish marks like the opening question and exclamation marks. Underscores are used in PG to indicate emphasis, so they need to be treated as punctuation. Quotation marks before or after \"whitespace\" are considered a single mark with whitespace (necessary to aid in correct sentence splitting later on).\n",
    "+ Finally, any sequence of alphanumeric characters not matched by the previous regular expressions will be identified as a token. This would be the majority of the words in the text. An alphanumeric character is defined as the complement of the set of punctuation marks:\n",
    "~~~~\n",
    "[—✚§/#´<>+’=:$;,“”»«\";¿?¡!_\\s.()\\[\\]{}*^-]\n",
    "~~~~\n"
   ]
  },
  {
   "cell_type": "markdown",
   "metadata": {},
   "source": [
    "Further, the list of tokens is assembled into sentences. Thus, instead of splitting a paragraph into sentences by looking for punctuation marks followed by whitespace, for instance, I first tokenize the paragraph (which is bound to begin and end at a sentence boundary), using formulas to find the sentence boundaries between tokens. In this way, I avoid the pitfalls of breaking a sentence at the wrong place when two punctuation marks follow each other, or when a punctuation mark is followed by a quotation mark, for instance."
   ]
  },
  {
   "cell_type": "markdown",
   "metadata": {},
   "source": [
    "These functions are used to build three different block readers. `par_word_reader()` reads a paragraph and returns a list of tokens, while `par_sent_reader()` returns a list of sentences, each tokenized into words. `par_para_reader` takes that list of sentences and makes it the only element of a new list, corresponding to a paragraph. Each of these block readers is passed on to a stream-backed corpus viewer to define methods for viewing the corpus as a list of words (`.words()`), as a list of sentences (`.sents()`), or as a list of paragraphs (`.paras()`), respectively. The `.raw()` method for viewing the corpus as a string of characters is inherited from the parent class."
   ]
  },
  {
   "cell_type": "markdown",
   "metadata": {},
   "source": [
    "The reader is saved as a python module `SpanishReader.py`. The module can be loaded and the constructor used to create an instance of a Spanish corpus. We can compare the tokenization and sentence splitting methods of the Spanish corpus reader to the standard PlaintextCorpusReader. Many of the issues we identified have now been resolved. "
   ]
  },
  {
   "cell_type": "code",
   "execution_count": 471,
   "metadata": {
    "collapsed": true
   },
   "outputs": [],
   "source": [
    "# Import the module\n",
    "import SpanishReader"
   ]
  },
  {
   "cell_type": "code",
   "execution_count": 519,
   "metadata": {},
   "outputs": [
    {
     "data": {
      "text/plain": [
       "<module 'SpanishReader' from 'SpanishReader.py'>"
      ]
     },
     "execution_count": 519,
     "metadata": {},
     "output_type": "execute_result"
    }
   ],
   "source": [
    "reload(SpanishReader)"
   ]
  },
  {
   "cell_type": "code",
   "execution_count": 520,
   "metadata": {},
   "outputs": [],
   "source": [
    "# From the module, use SpanishPlaintextCorpusReader() as a constructor. Use the\n",
    "# same root directory as before.\n",
    "myspreader = SpanishReader.SpanishPlaintextCorpusReader(root, '.*\\.txt')"
   ]
  },
  {
   "cell_type": "code",
   "execution_count": 521,
   "metadata": {},
   "outputs": [
    {
     "name": "stdout",
     "output_type": "stream",
     "text": [
      "\n",
      "\n",
      "  DON PEDRO DE LARA\n",
      "  DOÑA MATILDE, su hija\n",
      "  DON EDUARDO DE CONTRERAS\n",
      "  BRUNO, criado de DON PEDR\n"
     ]
    }
   ],
   "source": [
    "print(myspreader.raw()[0:100])"
   ]
  },
  {
   "cell_type": "code",
   "execution_count": 522,
   "metadata": {},
   "outputs": [
    {
     "name": "stdout",
     "output_type": "stream",
     "text": [
      "[u'DO\\xd1A', u'MATILDE', u'Y', u'BRUNO', u'DO\\xd1A', u'MATILDE', u'.', u'\\xa1', u'Bruno', u'!']\n"
     ]
    }
   ],
   "source": [
    "print(myspreader.words()[90:100])"
   ]
  },
  {
   "cell_type": "code",
   "execution_count": 523,
   "metadata": {},
   "outputs": [
    {
     "name": "stdout",
     "output_type": "stream",
     "text": [
      "[u'La', u'suscrici\\xf3n', u',', u'contando', u'con', u'lo', u'gastado', u'en', u'las', u'municiones', u',', u'ha', u'producido', u',', u'por', u'nuestra', u'parte', u'7.500', u'pesos', u'fuertes', u'.']\n"
     ]
    }
   ],
   "source": [
    "#Spanish reader does not break numerals at the period\n",
    "print(myspreader.sents()[4288])"
   ]
  },
  {
   "cell_type": "code",
   "execution_count": 524,
   "metadata": {},
   "outputs": [
    {
     "name": "stdout",
     "output_type": "stream",
     "text": [
      "[[u'--', u'No', u',', u'se\\xf1orita', u'...', u'--', u'murmur\\xe9', u'sonriendo', u'.'], [u'--', u'A', u'las', u'veces', u'se', u'me', u'va', u'el', u'pensamiento', u'hacia', u'Villaverde', u',', u'en', u'busca', u'de', u'los', u'que', u'me', u'aman', u'...', u'.']]\n"
     ]
    }
   ],
   "source": [
    "#Spanish reader finds the right sentence and punctuation breaks\n",
    "print(myspreader.sents()[10708:10710])"
   ]
  },
  {
   "cell_type": "code",
   "execution_count": 525,
   "metadata": {},
   "outputs": [
    {
     "name": "stdout",
     "output_type": "stream",
     "text": [
      "[u'--', u'\\xbf', u'Qu\\xe9', u'hac\\xeda', u'su', u'padre', u'de', u'Vd.', u'?']\n"
     ]
    }
   ],
   "source": [
    "#Spanish reader keeps periods with abbreviations\n",
    "print(myspreader.sents()[26293])"
   ]
  },
  {
   "cell_type": "code",
   "execution_count": 526,
   "metadata": {},
   "outputs": [
    {
     "name": "stdout",
     "output_type": "stream",
     "text": [
      "[u'La', u'compa\\xf1\\xeda', u'de', u'Garc\\xeda', u'Delgado', u'cantaba', u'el', u'himno', u'nacional', u'y', u'representaba', u'la', u'_', u'Flor', u'de', u'un', u'd\\xeda', u'_', u',', u'de', u'Camprod\\xf3n', u'.']\n"
     ]
    }
   ],
   "source": [
    "#Spanish reader separates underscores from words\n",
    "print(myspreader.sents()[30042])"
   ]
  },
  {
   "cell_type": "code",
   "execution_count": 527,
   "metadata": {},
   "outputs": [
    {
     "name": "stdout",
     "output_type": "stream",
     "text": [
      "[[u'--', u'Bueno', u'...', u'vete', u',', u'y', u'\\xa1', u'que', u'Dios', u'te', u'bendiga', u'!'], [u'Escribe', u'luego', u'que', u'puedas', u'.'], [u'Saludas', u'de', u'nuestra', u'parte', u'al', u'se\\xf1or', u'Fern\\xe1ndez', u',', u'y', u'a', u'la', u'se\\xf1orita', u'.'], [u'Escribe', u'con', u'frecuencia', u'.'], [u'Acaso', u'tengas', u'que', u'tratar', u'con', u'los', u'mozos', u'...', u'.'], [u'Te', u'encargo', u'mucha', u'prudencia', u',', u'mucha', u'seriedad', u'...', u'.'], [u'Vamos', u',', u'dame', u'otro', u'abrazo', u',', u'y', u'\\xa1', u'que', u'Dios', u'te', u'lleve', u'con', u'bien', u'!']]\n"
     ]
    }
   ],
   "source": [
    "# Method for reading paragraphs\n",
    "print(myspreader.paras()[4007])"
   ]
  },
  {
   "cell_type": "markdown",
   "metadata": {},
   "source": [
    "## 4. Appendix\n",
    "\n",
    "### 4.1. List of abbreviations:\n",
    "\n",
    "Arqueol., &c., Mme., Lib., Lic., Antrop., núm., Dres., Descrip., —tom., rs., lám., Sec., Liv.,\n",
    "Introd., Excmo., Caps., Amer., oct., Antigs., Ses., Moderns., Moralíz.,\n",
    "Esp., Lam., act., Europ., Geog., CC., Eneid., Nat., M., Crón., Ntra., men.,\n",
    "Láms., Orth., Gam., tam., Arg., Op., caps., Agust., fol., Sr., Tam., Janr., \n",
    "MS., Bol., Mr., S.A.S., Núms., Civiliz., Figs., DR., Orígs., Vocabuls.,\n",
    "cits., L.E., Dicc., paj., Amér., Lám., ESQ., op., Argent., NE., Sres., \n",
    "Esp., Lam., Exmo., Espagn., pag., Conq., Cont., Sr., SR., SO., Ind., ded., \n",
    "cuads., Oct., Psch., Ed., Sta., Fot., sec., Part., JUV., Arqueolog., Sto., \n",
    "pp., Antig., vol.Cod., Srta., Col., lib., Congr., lin., Colec., Instit., \n",
    "Cong., Cient., Mlle., Rev., LLOR., nat., gr., ROB., Ge., Ord., lec., FR., \n",
    "Fr., ILMO., Colecc., Pág., Tuc., Prov., EXCMO., Págs., p.m., sc., capits., \n",
    "Pl., PP., lug., Sra., a.m., Antich., Gen., Apénd., Cap., Bs., pags., MSS., \n",
    "cap., Vds., nos., tom., Lug., Dr., págs., id., pág., verb., Or., sigtes., \n",
    "SEB., Hist., Vd., ci., vol., cit., etc., Cía., Id., Nos., Ibid., LLO., Ud., \n",
    "Fig., Geográf., Internat., Sant., ps., part., Luxemburg., "
   ]
  },
  {
   "cell_type": "markdown",
   "metadata": {},
   "source": [
    "### 4.2. Works in the Spanish corpus:\n",
    "\n",
    "23957 Pereda, José María de, 1833-1906. Al primer vuelo (1896)  \n",
    "21906 Pérez Galdós, Benito, 1843-1920. Cádiz (1874)  \n",
    "26929 Picón, Jacinto Octavio, 1852-1923. Cuentos de mi tiempo (1895)  \n",
    "44120 Saurí i Marsal, Manuel, 1837-1924. La Caza de La Perdiz Con Escopeta, Al Vuelo y con Perro de Muestra (1877)  \n",
    "35882 Valera, Juan, 1824-1905. A vuela pluma: colección de artículos literarios y políticos (1897)  \n",
    "49013 Muñoz Seca, Pedro, 1881-1936. La venganza de Don Mendo (1918)  \n",
    "49280 Baroja, Pío, 1872-1956. Los Caminos del Mundo (1921)  \n",
    "47388 Espina, Concha, 1869-1955. Agua de Nieve (1919)  \n",
    "36573 Palacio Valdés, Armando, 1853-1938. La aldea perdida (1911)  \n",
    "42727 Palacio Valdés, Armando, 1853-1938. La alegría del capitán Ribot (1899)   \n",
    "14318 Pérez de Ayala, Ramón, 1880-1962. Belarmino y Apolonio (1921) \n",
    "14311 Pérez Galdós, Benito, 1843-1920. Bailén (1873) \n",
    "49149 Unamuno, Miguel de, 1864-1936. Amor y Pedagogía (1902) \n",
    "44512 Unamuno, Miguel de, 1864-1936. Abel Sánchez: Una Historia de Pasión (1917) \n",
    "50757 Zamacois, Eduardo, 1873-1971. La cita: novelas (1913) \n",
    "41337 Castro, Cristóbal de, 1880?-1953. Catálogo Monumental de España; Provincia de Álava. Inventario general de los monumentos históricos y artísticos de al nación (1915)  \n",
    "26545 Martínez Ruiz, José, 1873-1967. Antonio Azorín: pequeño libro en que se habla de la vida de este peregrino señor (1913)  \n",
    "49437 Machado, Antonio, 1875-1939. Páginas escogidas (1917)  \n",
    "12368 Gorostiza, Manuel Eduardo de, 1789-1851. Contigo Pan y Cebolla (1833)  \n",
    "41575 Cané, Miguel, 1851-1905. Juvenilla (1901); Prosa ligera (1903)  \n",
    "16082 Delgado, Rafael, 1853-1914. Angelina (novela mexicana) (1893)  \n",
    "45945 Lastarria, José Victorino, 1817-1888. Antaño i Ogaño: Novelas i Cuentos de la Vida Hispano-Americana (1885)  \n",
    "18166 Martí, José, 1853-1895. Amistad funesta: Novela (1885)  \n",
    "28281 Villaverde, Cirilo, 1812-1894. Cecilia Valdés o la Loma del Ángel (1879)  \n",
    "31724 López, Lucio Vicente, 1848-1894. La gran aldea; costumbres bonaerenses (1908)  \n",
    "52469 Nieves, Juan B. ????-???? La Anexión de Puerto-Rico a los Estados Unidos de America (1898)  \n",
    "26771 Bunge, Carlos O. (Carlos Octavio), 1875-1918. Thespis (novelas cortas y cuentos) (1907)  \n",
    "29920 Larreta, Enrique, 1875-1961. La gloria de don Ramiro: una vida en tiempos de Felipe segundo (1911)  \n",
    "25054 Leumann, Carlos Alberto, 1886-1952. Adriana Zumarán (novela) (1921)  \n",
    "13507 Quiroga, Horacio, 1878-1937. Cuentos de Amor de Locura y de Muerte (1917)  \n",
    "26231 Vedia, Enrique de, 1847-1917. Transfusión (1908)  \n",
    "53798 Viana, Javier de, 1868-1926. Ranchos (Costumbres del Campo) (1920)  \n",
    "52050 Darío, Rubén, 1867-1916. Autobiografía (1918 [1912])  \n",
    "53927 Gutiérrez, Juan María, 1809-1878. Apuntes biograficos de escritores, oradores y hombres de estado de la Republica Argentina (1860)  \n",
    "34565 Palma, Angélica, 1883-1935. Crónicas de Marianela (1917)  \n",
    "54064 Quiroga, Adán, 1863-1904. La cruz en América (1901)  \n",
    "22899 Rodó, José Enrique, 1872-1917. Ariel (1900)  \n",
    "51458 Darío, Rubén, 1867-1916. Canto a la Argentina, Oda a Mitre y otros poemas (1918 [1906])  \n",
    "51711 Darío, Rubén, 1867-1916. El Canto Errante (1918 [1907])  \n",
    "50341 Darío, Rubén, 1867-1916. Cantos de Vida y Esperanza, Los Cisnes y otros poemas (1918 [1905])  \n",
    "10909 Hartzenbusch, Juan Eugenio, 1806-1880. Los Amantes de Teruel (1837)  \n",
    "29731 Alarcón, Pedro Antonio de, 1833-1891. El Capitán Veneno (1881)  \n",
    "14944 Blasco Ibáñez, Vicente, 1867-1928. La Barraca (1898)  \n",
    "16413 Blasco Ibáñez, Vicente, 1867-1928. Arroz y tartana (1894)  \n",
    "27295 Fernández y González, Manuel, 1821-1888. Amparo (Memorias de un loco) (1858)  "
   ]
  }
 ],
 "metadata": {
  "kernelspec": {
   "display_name": "Python 3",
   "language": "python",
   "name": "python3"
  },
  "language_info": {
   "codemirror_mode": {
    "name": "ipython",
    "version": 3
   },
   "file_extension": ".py",
   "mimetype": "text/x-python",
   "name": "python",
   "nbconvert_exporter": "python",
   "pygments_lexer": "ipython3",
   "version": "3.8.3"
  }
 },
 "nbformat": 4,
 "nbformat_minor": 1
}
